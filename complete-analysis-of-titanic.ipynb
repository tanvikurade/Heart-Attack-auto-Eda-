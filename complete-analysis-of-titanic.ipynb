{
 "cells": [
  {
   "cell_type": "code",
   "execution_count": 1,
   "id": "6dfaab45",
   "metadata": {
    "_cell_guid": "b1076dfc-b9ad-4769-8c92-a6c4dae69d19",
    "_uuid": "8f2839f25d086af736a60e9eeb907d3b93b6e0e5",
    "execution": {
     "iopub.execute_input": "2021-08-24T04:58:15.196146Z",
     "iopub.status.busy": "2021-08-24T04:58:15.195252Z",
     "iopub.status.idle": "2021-08-24T04:58:15.200943Z",
     "shell.execute_reply": "2021-08-24T04:58:15.200198Z",
     "shell.execute_reply.started": "2021-08-03T07:05:12.070707Z"
    },
    "papermill": {
     "duration": 0.054729,
     "end_time": "2021-08-24T04:58:15.201110",
     "exception": false,
     "start_time": "2021-08-24T04:58:15.146381",
     "status": "completed"
    },
    "tags": []
   },
   "outputs": [
    {
     "name": "stdout",
     "output_type": "stream",
     "text": [
      "/kaggle/input/titanic/train.csv\n",
      "/kaggle/input/titanic/test.csv\n",
      "/kaggle/input/titanic/gender_submission.csv\n"
     ]
    }
   ],
   "source": [
    "# This Python 3 environment comes with many helpful analytics libraries installed\n",
    "# It is defined by the kaggle/python Docker image: https://github.com/kaggle/docker-python\n",
    "# For example, here's several helpful packages to load\n",
    "\n",
    "import numpy as np # linear algebra\n",
    "import pandas as pd # data processing, CSV file I/O (e.g. pd.read_csv)\n",
    "\n",
    "# Input data files are available in the read-only \"../input/\" directory\n",
    "# For example, running this (by clicking run or pressing Shift+Enter) will list all files under the input directory\n",
    "\n",
    "import os\n",
    "for dirname, _, filenames in os.walk('/kaggle/input'):\n",
    "    for filename in filenames:\n",
    "        print(os.path.join(dirname, filename))\n",
    "\n",
    "# You can write up to 20GB to the current directory (/kaggle/working/) that gets preserved as output when you create a version using \"Save & Run All\" \n",
    "# You can also write temporary files to /kaggle/temp/, but they won't be saved outside of the current session"
   ]
  },
  {
   "cell_type": "code",
   "execution_count": 2,
   "id": "c7adb25b",
   "metadata": {
    "execution": {
     "iopub.execute_input": "2021-08-24T04:58:15.277050Z",
     "iopub.status.busy": "2021-08-24T04:58:15.276366Z",
     "iopub.status.idle": "2021-08-24T04:58:16.345406Z",
     "shell.execute_reply": "2021-08-24T04:58:16.344787Z",
     "shell.execute_reply.started": "2021-08-03T07:05:43.4686Z"
    },
    "papermill": {
     "duration": 1.109432,
     "end_time": "2021-08-24T04:58:16.345586",
     "exception": false,
     "start_time": "2021-08-24T04:58:15.236154",
     "status": "completed"
    },
    "tags": []
   },
   "outputs": [],
   "source": [
    "import matplotlib.pyplot as plt \n",
    "%matplotlib inline \n",
    "import seaborn as sns"
   ]
  },
  {
   "cell_type": "code",
   "execution_count": 3,
   "id": "3fe49f75",
   "metadata": {
    "execution": {
     "iopub.execute_input": "2021-08-24T04:58:16.422738Z",
     "iopub.status.busy": "2021-08-24T04:58:16.422033Z",
     "iopub.status.idle": "2021-08-24T04:58:16.451879Z",
     "shell.execute_reply": "2021-08-24T04:58:16.451119Z",
     "shell.execute_reply.started": "2021-08-03T07:06:53.191031Z"
    },
    "papermill": {
     "duration": 0.071249,
     "end_time": "2021-08-24T04:58:16.452026",
     "exception": false,
     "start_time": "2021-08-24T04:58:16.380777",
     "status": "completed"
    },
    "tags": []
   },
   "outputs": [],
   "source": [
    "df_Train=pd.read_csv('/kaggle/input/titanic/train.csv')\n",
    "df_Test=pd.read_csv('/kaggle/input/titanic/test.csv')"
   ]
  },
  {
   "cell_type": "code",
   "execution_count": 4,
   "id": "17345df5",
   "metadata": {
    "execution": {
     "iopub.execute_input": "2021-08-24T04:58:16.535068Z",
     "iopub.status.busy": "2021-08-24T04:58:16.534372Z",
     "iopub.status.idle": "2021-08-24T04:58:16.561850Z",
     "shell.execute_reply": "2021-08-24T04:58:16.561268Z",
     "shell.execute_reply.started": "2021-08-03T07:07:21.986975Z"
    },
    "papermill": {
     "duration": 0.07461,
     "end_time": "2021-08-24T04:58:16.561996",
     "exception": false,
     "start_time": "2021-08-24T04:58:16.487386",
     "status": "completed"
    },
    "tags": []
   },
   "outputs": [
    {
     "data": {
      "text/html": [
       "<div>\n",
       "<style scoped>\n",
       "    .dataframe tbody tr th:only-of-type {\n",
       "        vertical-align: middle;\n",
       "    }\n",
       "\n",
       "    .dataframe tbody tr th {\n",
       "        vertical-align: top;\n",
       "    }\n",
       "\n",
       "    .dataframe thead th {\n",
       "        text-align: right;\n",
       "    }\n",
       "</style>\n",
       "<table border=\"1\" class=\"dataframe\">\n",
       "  <thead>\n",
       "    <tr style=\"text-align: right;\">\n",
       "      <th></th>\n",
       "      <th>PassengerId</th>\n",
       "      <th>Survived</th>\n",
       "      <th>Pclass</th>\n",
       "      <th>Name</th>\n",
       "      <th>Sex</th>\n",
       "      <th>Age</th>\n",
       "      <th>SibSp</th>\n",
       "      <th>Parch</th>\n",
       "      <th>Ticket</th>\n",
       "      <th>Fare</th>\n",
       "      <th>Cabin</th>\n",
       "      <th>Embarked</th>\n",
       "    </tr>\n",
       "  </thead>\n",
       "  <tbody>\n",
       "    <tr>\n",
       "      <th>0</th>\n",
       "      <td>1</td>\n",
       "      <td>0</td>\n",
       "      <td>3</td>\n",
       "      <td>Braund, Mr. Owen Harris</td>\n",
       "      <td>male</td>\n",
       "      <td>22.0</td>\n",
       "      <td>1</td>\n",
       "      <td>0</td>\n",
       "      <td>A/5 21171</td>\n",
       "      <td>7.2500</td>\n",
       "      <td>NaN</td>\n",
       "      <td>S</td>\n",
       "    </tr>\n",
       "    <tr>\n",
       "      <th>1</th>\n",
       "      <td>2</td>\n",
       "      <td>1</td>\n",
       "      <td>1</td>\n",
       "      <td>Cumings, Mrs. John Bradley (Florence Briggs Th...</td>\n",
       "      <td>female</td>\n",
       "      <td>38.0</td>\n",
       "      <td>1</td>\n",
       "      <td>0</td>\n",
       "      <td>PC 17599</td>\n",
       "      <td>71.2833</td>\n",
       "      <td>C85</td>\n",
       "      <td>C</td>\n",
       "    </tr>\n",
       "    <tr>\n",
       "      <th>2</th>\n",
       "      <td>3</td>\n",
       "      <td>1</td>\n",
       "      <td>3</td>\n",
       "      <td>Heikkinen, Miss. Laina</td>\n",
       "      <td>female</td>\n",
       "      <td>26.0</td>\n",
       "      <td>0</td>\n",
       "      <td>0</td>\n",
       "      <td>STON/O2. 3101282</td>\n",
       "      <td>7.9250</td>\n",
       "      <td>NaN</td>\n",
       "      <td>S</td>\n",
       "    </tr>\n",
       "    <tr>\n",
       "      <th>3</th>\n",
       "      <td>4</td>\n",
       "      <td>1</td>\n",
       "      <td>1</td>\n",
       "      <td>Futrelle, Mrs. Jacques Heath (Lily May Peel)</td>\n",
       "      <td>female</td>\n",
       "      <td>35.0</td>\n",
       "      <td>1</td>\n",
       "      <td>0</td>\n",
       "      <td>113803</td>\n",
       "      <td>53.1000</td>\n",
       "      <td>C123</td>\n",
       "      <td>S</td>\n",
       "    </tr>\n",
       "    <tr>\n",
       "      <th>4</th>\n",
       "      <td>5</td>\n",
       "      <td>0</td>\n",
       "      <td>3</td>\n",
       "      <td>Allen, Mr. William Henry</td>\n",
       "      <td>male</td>\n",
       "      <td>35.0</td>\n",
       "      <td>0</td>\n",
       "      <td>0</td>\n",
       "      <td>373450</td>\n",
       "      <td>8.0500</td>\n",
       "      <td>NaN</td>\n",
       "      <td>S</td>\n",
       "    </tr>\n",
       "  </tbody>\n",
       "</table>\n",
       "</div>"
      ],
      "text/plain": [
       "   PassengerId  Survived  Pclass  \\\n",
       "0            1         0       3   \n",
       "1            2         1       1   \n",
       "2            3         1       3   \n",
       "3            4         1       1   \n",
       "4            5         0       3   \n",
       "\n",
       "                                                Name     Sex   Age  SibSp  \\\n",
       "0                            Braund, Mr. Owen Harris    male  22.0      1   \n",
       "1  Cumings, Mrs. John Bradley (Florence Briggs Th...  female  38.0      1   \n",
       "2                             Heikkinen, Miss. Laina  female  26.0      0   \n",
       "3       Futrelle, Mrs. Jacques Heath (Lily May Peel)  female  35.0      1   \n",
       "4                           Allen, Mr. William Henry    male  35.0      0   \n",
       "\n",
       "   Parch            Ticket     Fare Cabin Embarked  \n",
       "0      0         A/5 21171   7.2500   NaN        S  \n",
       "1      0          PC 17599  71.2833   C85        C  \n",
       "2      0  STON/O2. 3101282   7.9250   NaN        S  \n",
       "3      0            113803  53.1000  C123        S  \n",
       "4      0            373450   8.0500   NaN        S  "
      ]
     },
     "execution_count": 4,
     "metadata": {},
     "output_type": "execute_result"
    }
   ],
   "source": [
    "df_Train.head()"
   ]
  },
  {
   "cell_type": "code",
   "execution_count": 5,
   "id": "b896e38b",
   "metadata": {
    "execution": {
     "iopub.execute_input": "2021-08-24T04:58:16.649666Z",
     "iopub.status.busy": "2021-08-24T04:58:16.648927Z",
     "iopub.status.idle": "2021-08-24T04:58:16.652802Z",
     "shell.execute_reply": "2021-08-24T04:58:16.653290Z",
     "shell.execute_reply.started": "2021-08-03T07:07:42.525059Z"
    },
    "papermill": {
     "duration": 0.056091,
     "end_time": "2021-08-24T04:58:16.653469",
     "exception": false,
     "start_time": "2021-08-24T04:58:16.597378",
     "status": "completed"
    },
    "tags": []
   },
   "outputs": [
    {
     "data": {
      "text/html": [
       "<div>\n",
       "<style scoped>\n",
       "    .dataframe tbody tr th:only-of-type {\n",
       "        vertical-align: middle;\n",
       "    }\n",
       "\n",
       "    .dataframe tbody tr th {\n",
       "        vertical-align: top;\n",
       "    }\n",
       "\n",
       "    .dataframe thead th {\n",
       "        text-align: right;\n",
       "    }\n",
       "</style>\n",
       "<table border=\"1\" class=\"dataframe\">\n",
       "  <thead>\n",
       "    <tr style=\"text-align: right;\">\n",
       "      <th></th>\n",
       "      <th>PassengerId</th>\n",
       "      <th>Pclass</th>\n",
       "      <th>Name</th>\n",
       "      <th>Sex</th>\n",
       "      <th>Age</th>\n",
       "      <th>SibSp</th>\n",
       "      <th>Parch</th>\n",
       "      <th>Ticket</th>\n",
       "      <th>Fare</th>\n",
       "      <th>Cabin</th>\n",
       "      <th>Embarked</th>\n",
       "    </tr>\n",
       "  </thead>\n",
       "  <tbody>\n",
       "    <tr>\n",
       "      <th>0</th>\n",
       "      <td>892</td>\n",
       "      <td>3</td>\n",
       "      <td>Kelly, Mr. James</td>\n",
       "      <td>male</td>\n",
       "      <td>34.5</td>\n",
       "      <td>0</td>\n",
       "      <td>0</td>\n",
       "      <td>330911</td>\n",
       "      <td>7.8292</td>\n",
       "      <td>NaN</td>\n",
       "      <td>Q</td>\n",
       "    </tr>\n",
       "    <tr>\n",
       "      <th>1</th>\n",
       "      <td>893</td>\n",
       "      <td>3</td>\n",
       "      <td>Wilkes, Mrs. James (Ellen Needs)</td>\n",
       "      <td>female</td>\n",
       "      <td>47.0</td>\n",
       "      <td>1</td>\n",
       "      <td>0</td>\n",
       "      <td>363272</td>\n",
       "      <td>7.0000</td>\n",
       "      <td>NaN</td>\n",
       "      <td>S</td>\n",
       "    </tr>\n",
       "    <tr>\n",
       "      <th>2</th>\n",
       "      <td>894</td>\n",
       "      <td>2</td>\n",
       "      <td>Myles, Mr. Thomas Francis</td>\n",
       "      <td>male</td>\n",
       "      <td>62.0</td>\n",
       "      <td>0</td>\n",
       "      <td>0</td>\n",
       "      <td>240276</td>\n",
       "      <td>9.6875</td>\n",
       "      <td>NaN</td>\n",
       "      <td>Q</td>\n",
       "    </tr>\n",
       "    <tr>\n",
       "      <th>3</th>\n",
       "      <td>895</td>\n",
       "      <td>3</td>\n",
       "      <td>Wirz, Mr. Albert</td>\n",
       "      <td>male</td>\n",
       "      <td>27.0</td>\n",
       "      <td>0</td>\n",
       "      <td>0</td>\n",
       "      <td>315154</td>\n",
       "      <td>8.6625</td>\n",
       "      <td>NaN</td>\n",
       "      <td>S</td>\n",
       "    </tr>\n",
       "    <tr>\n",
       "      <th>4</th>\n",
       "      <td>896</td>\n",
       "      <td>3</td>\n",
       "      <td>Hirvonen, Mrs. Alexander (Helga E Lindqvist)</td>\n",
       "      <td>female</td>\n",
       "      <td>22.0</td>\n",
       "      <td>1</td>\n",
       "      <td>1</td>\n",
       "      <td>3101298</td>\n",
       "      <td>12.2875</td>\n",
       "      <td>NaN</td>\n",
       "      <td>S</td>\n",
       "    </tr>\n",
       "  </tbody>\n",
       "</table>\n",
       "</div>"
      ],
      "text/plain": [
       "   PassengerId  Pclass                                          Name     Sex  \\\n",
       "0          892       3                              Kelly, Mr. James    male   \n",
       "1          893       3              Wilkes, Mrs. James (Ellen Needs)  female   \n",
       "2          894       2                     Myles, Mr. Thomas Francis    male   \n",
       "3          895       3                              Wirz, Mr. Albert    male   \n",
       "4          896       3  Hirvonen, Mrs. Alexander (Helga E Lindqvist)  female   \n",
       "\n",
       "    Age  SibSp  Parch   Ticket     Fare Cabin Embarked  \n",
       "0  34.5      0      0   330911   7.8292   NaN        Q  \n",
       "1  47.0      1      0   363272   7.0000   NaN        S  \n",
       "2  62.0      0      0   240276   9.6875   NaN        Q  \n",
       "3  27.0      0      0   315154   8.6625   NaN        S  \n",
       "4  22.0      1      1  3101298  12.2875   NaN        S  "
      ]
     },
     "execution_count": 5,
     "metadata": {},
     "output_type": "execute_result"
    }
   ],
   "source": [
    "df_Test.head()"
   ]
  },
  {
   "cell_type": "code",
   "execution_count": 6,
   "id": "3a49e37c",
   "metadata": {
    "execution": {
     "iopub.execute_input": "2021-08-24T04:58:16.735585Z",
     "iopub.status.busy": "2021-08-24T04:58:16.734641Z",
     "iopub.status.idle": "2021-08-24T04:58:16.738895Z",
     "shell.execute_reply": "2021-08-24T04:58:16.738275Z",
     "shell.execute_reply.started": "2021-08-03T07:08:00.992365Z"
    },
    "papermill": {
     "duration": 0.048686,
     "end_time": "2021-08-24T04:58:16.739036",
     "exception": false,
     "start_time": "2021-08-24T04:58:16.690350",
     "status": "completed"
    },
    "tags": []
   },
   "outputs": [
    {
     "data": {
      "text/plain": [
       "PassengerId      0\n",
       "Survived         0\n",
       "Pclass           0\n",
       "Name             0\n",
       "Sex              0\n",
       "Age            177\n",
       "SibSp            0\n",
       "Parch            0\n",
       "Ticket           0\n",
       "Fare             0\n",
       "Cabin          687\n",
       "Embarked         2\n",
       "dtype: int64"
      ]
     },
     "execution_count": 6,
     "metadata": {},
     "output_type": "execute_result"
    }
   ],
   "source": [
    "df_Train.isnull().sum()"
   ]
  },
  {
   "cell_type": "code",
   "execution_count": 7,
   "id": "ccdb513a",
   "metadata": {
    "execution": {
     "iopub.execute_input": "2021-08-24T04:58:16.819393Z",
     "iopub.status.busy": "2021-08-24T04:58:16.818717Z",
     "iopub.status.idle": "2021-08-24T04:58:16.821513Z",
     "shell.execute_reply": "2021-08-24T04:58:16.822168Z",
     "shell.execute_reply.started": "2021-08-03T07:08:13.850489Z"
    },
    "papermill": {
     "duration": 0.047299,
     "end_time": "2021-08-24T04:58:16.822420",
     "exception": false,
     "start_time": "2021-08-24T04:58:16.775121",
     "status": "completed"
    },
    "tags": []
   },
   "outputs": [
    {
     "data": {
      "text/plain": [
       "PassengerId      0\n",
       "Pclass           0\n",
       "Name             0\n",
       "Sex              0\n",
       "Age             86\n",
       "SibSp            0\n",
       "Parch            0\n",
       "Ticket           0\n",
       "Fare             1\n",
       "Cabin          327\n",
       "Embarked         0\n",
       "dtype: int64"
      ]
     },
     "execution_count": 7,
     "metadata": {},
     "output_type": "execute_result"
    }
   ],
   "source": [
    "df_Test.isnull().sum()"
   ]
  },
  {
   "cell_type": "code",
   "execution_count": 8,
   "id": "414be20c",
   "metadata": {
    "execution": {
     "iopub.execute_input": "2021-08-24T04:58:16.900871Z",
     "iopub.status.busy": "2021-08-24T04:58:16.900192Z",
     "iopub.status.idle": "2021-08-24T04:58:16.907308Z",
     "shell.execute_reply": "2021-08-24T04:58:16.907824Z",
     "shell.execute_reply.started": "2021-08-03T07:09:07.060326Z"
    },
    "papermill": {
     "duration": 0.048455,
     "end_time": "2021-08-24T04:58:16.907999",
     "exception": false,
     "start_time": "2021-08-24T04:58:16.859544",
     "status": "completed"
    },
    "tags": []
   },
   "outputs": [],
   "source": [
    "def bar_chart(feature):\n",
    "    survived = df_Train[df_Train['Survived']==1][feature].value_counts()\n",
    "    dead = df_Train[df_Train['Survived']==0][feature].value_counts()\n",
    "    df = pd.DataFrame([survived,dead])\n",
    "    df.index = ['Survived','Dead']\n",
    "    df.plot(kind='bar',stacked=True, figsize=(10,5))"
   ]
  },
  {
   "cell_type": "code",
   "execution_count": 9,
   "id": "f494017a",
   "metadata": {
    "execution": {
     "iopub.execute_input": "2021-08-24T04:58:16.986393Z",
     "iopub.status.busy": "2021-08-24T04:58:16.985453Z",
     "iopub.status.idle": "2021-08-24T04:58:17.230309Z",
     "shell.execute_reply": "2021-08-24T04:58:17.229629Z",
     "shell.execute_reply.started": "2021-08-03T07:09:19.655309Z"
    },
    "papermill": {
     "duration": 0.284756,
     "end_time": "2021-08-24T04:58:17.230455",
     "exception": false,
     "start_time": "2021-08-24T04:58:16.945699",
     "status": "completed"
    },
    "tags": []
   },
   "outputs": [
    {
     "data": {
      "image/png": "[encoded data removed]",
      "text/plain": [
       "<Figure size 720x360 with 1 Axes>"
      ]
     },
     "metadata": {
      "needs_background": "light"
     },
     "output_type": "display_data"
    }
   ],
   "source": [
    "bar_chart('Sex')"
   ]
  },
  {
   "cell_type": "code",
   "execution_count": 10,
   "id": "227e3373",
   "metadata": {
    "execution": {
     "iopub.execute_input": "2021-08-24T04:58:17.347435Z",
     "iopub.status.busy": "2021-08-24T04:58:17.335322Z",
     "iopub.status.idle": "2021-08-24T04:58:17.494994Z",
     "shell.execute_reply": "2021-08-24T04:58:17.494445Z",
     "shell.execute_reply.started": "2021-08-03T07:09:43.693063Z"
    },
    "papermill": {
     "duration": 0.227412,
     "end_time": "2021-08-24T04:58:17.495132",
     "exception": false,
     "start_time": "2021-08-24T04:58:17.267720",
     "status": "completed"
    },
    "tags": []
   },
   "outputs": [
    {
     "data": {
      "image/png": "[encoded data removed]",
      "text/plain": [
       "<Figure size 720x360 with 1 Axes>"
      ]
     },
     "metadata": {
      "needs_background": "light"
     },
     "output_type": "display_data"
    }
   ],
   "source": [
    "bar_chart('Pclass')"
   ]
  },
  {
   "cell_type": "code",
   "execution_count": 11,
   "id": "2079ad54",
   "metadata": {
    "execution": {
     "iopub.execute_input": "2021-08-24T04:58:17.600013Z",
     "iopub.status.busy": "2021-08-24T04:58:17.594350Z",
     "iopub.status.idle": "2021-08-24T04:58:17.760004Z",
     "shell.execute_reply": "2021-08-24T04:58:17.759347Z",
     "shell.execute_reply.started": "2021-08-03T07:10:02.216802Z"
    },
    "papermill": {
     "duration": 0.227476,
     "end_time": "2021-08-24T04:58:17.760156",
     "exception": false,
     "start_time": "2021-08-24T04:58:17.532680",
     "status": "completed"
    },
    "tags": []
   },
   "outputs": [
    {
     "data": {
      "image/png": "[encoded data removed]",
      "text/plain": [
       "<Figure size 720x360 with 1 Axes>"
      ]
     },
     "metadata": {
      "needs_background": "light"
     },
     "output_type": "display_data"
    }
   ],
   "source": [
    "bar_chart('Embarked')"
   ]
  },
  {
   "cell_type": "code",
   "execution_count": 12,
   "id": "6082854b",
   "metadata": {
    "execution": {
     "iopub.execute_input": "2021-08-24T04:58:17.845483Z",
     "iopub.status.busy": "2021-08-24T04:58:17.844784Z",
     "iopub.status.idle": "2021-08-24T04:58:17.847818Z",
     "shell.execute_reply": "2021-08-24T04:58:17.847295Z",
     "shell.execute_reply.started": "2021-08-03T07:10:20.21518Z"
    },
    "papermill": {
     "duration": 0.049155,
     "end_time": "2021-08-24T04:58:17.847978",
     "exception": false,
     "start_time": "2021-08-24T04:58:17.798823",
     "status": "completed"
    },
    "tags": []
   },
   "outputs": [],
   "source": [
    "#Deleting unneccesary columns\n",
    "df_Train.drop('Name', axis=1, inplace=True)\n",
    "df_Test.drop('Name', axis=1, inplace=True)"
   ]
  },
  {
   "cell_type": "code",
   "execution_count": 13,
   "id": "46f6f1ad",
   "metadata": {
    "execution": {
     "iopub.execute_input": "2021-08-24T04:58:17.942348Z",
     "iopub.status.busy": "2021-08-24T04:58:17.941647Z",
     "iopub.status.idle": "2021-08-24T04:58:17.945076Z",
     "shell.execute_reply": "2021-08-24T04:58:17.945616Z",
     "shell.execute_reply.started": "2021-08-03T07:10:32.304196Z"
    },
    "papermill": {
     "duration": 0.059279,
     "end_time": "2021-08-24T04:58:17.945792",
     "exception": false,
     "start_time": "2021-08-24T04:58:17.886513",
     "status": "completed"
    },
    "tags": []
   },
   "outputs": [
    {
     "data": {
      "text/html": [
       "<div>\n",
       "<style scoped>\n",
       "    .dataframe tbody tr th:only-of-type {\n",
       "        vertical-align: middle;\n",
       "    }\n",
       "\n",
       "    .dataframe tbody tr th {\n",
       "        vertical-align: top;\n",
       "    }\n",
       "\n",
       "    .dataframe thead th {\n",
       "        text-align: right;\n",
       "    }\n",
       "</style>\n",
       "<table border=\"1\" class=\"dataframe\">\n",
       "  <thead>\n",
       "    <tr style=\"text-align: right;\">\n",
       "      <th></th>\n",
       "      <th>PassengerId</th>\n",
       "      <th>Survived</th>\n",
       "      <th>Pclass</th>\n",
       "      <th>Sex</th>\n",
       "      <th>Age</th>\n",
       "      <th>SibSp</th>\n",
       "      <th>Parch</th>\n",
       "      <th>Ticket</th>\n",
       "      <th>Fare</th>\n",
       "      <th>Cabin</th>\n",
       "      <th>Embarked</th>\n",
       "    </tr>\n",
       "  </thead>\n",
       "  <tbody>\n",
       "    <tr>\n",
       "      <th>0</th>\n",
       "      <td>1</td>\n",
       "      <td>0</td>\n",
       "      <td>3</td>\n",
       "      <td>male</td>\n",
       "      <td>22.0</td>\n",
       "      <td>1</td>\n",
       "      <td>0</td>\n",
       "      <td>A/5 21171</td>\n",
       "      <td>7.2500</td>\n",
       "      <td>NaN</td>\n",
       "      <td>S</td>\n",
       "    </tr>\n",
       "    <tr>\n",
       "      <th>1</th>\n",
       "      <td>2</td>\n",
       "      <td>1</td>\n",
       "      <td>1</td>\n",
       "      <td>female</td>\n",
       "      <td>38.0</td>\n",
       "      <td>1</td>\n",
       "      <td>0</td>\n",
       "      <td>PC 17599</td>\n",
       "      <td>71.2833</td>\n",
       "      <td>C85</td>\n",
       "      <td>C</td>\n",
       "    </tr>\n",
       "    <tr>\n",
       "      <th>2</th>\n",
       "      <td>3</td>\n",
       "      <td>1</td>\n",
       "      <td>3</td>\n",
       "      <td>female</td>\n",
       "      <td>26.0</td>\n",
       "      <td>0</td>\n",
       "      <td>0</td>\n",
       "      <td>STON/O2. 3101282</td>\n",
       "      <td>7.9250</td>\n",
       "      <td>NaN</td>\n",
       "      <td>S</td>\n",
       "    </tr>\n",
       "    <tr>\n",
       "      <th>3</th>\n",
       "      <td>4</td>\n",
       "      <td>1</td>\n",
       "      <td>1</td>\n",
       "      <td>female</td>\n",
       "      <td>35.0</td>\n",
       "      <td>1</td>\n",
       "      <td>0</td>\n",
       "      <td>113803</td>\n",
       "      <td>53.1000</td>\n",
       "      <td>C123</td>\n",
       "      <td>S</td>\n",
       "    </tr>\n",
       "    <tr>\n",
       "      <th>4</th>\n",
       "      <td>5</td>\n",
       "      <td>0</td>\n",
       "      <td>3</td>\n",
       "      <td>male</td>\n",
       "      <td>35.0</td>\n",
       "      <td>0</td>\n",
       "      <td>0</td>\n",
       "      <td>373450</td>\n",
       "      <td>8.0500</td>\n",
       "      <td>NaN</td>\n",
       "      <td>S</td>\n",
       "    </tr>\n",
       "  </tbody>\n",
       "</table>\n",
       "</div>"
      ],
      "text/plain": [
       "   PassengerId  Survived  Pclass     Sex   Age  SibSp  Parch  \\\n",
       "0            1         0       3    male  22.0      1      0   \n",
       "1            2         1       1  female  38.0      1      0   \n",
       "2            3         1       3  female  26.0      0      0   \n",
       "3            4         1       1  female  35.0      1      0   \n",
       "4            5         0       3    male  35.0      0      0   \n",
       "\n",
       "             Ticket     Fare Cabin Embarked  \n",
       "0         A/5 21171   7.2500   NaN        S  \n",
       "1          PC 17599  71.2833   C85        C  \n",
       "2  STON/O2. 3101282   7.9250   NaN        S  \n",
       "3            113803  53.1000  C123        S  \n",
       "4            373450   8.0500   NaN        S  "
      ]
     },
     "execution_count": 13,
     "metadata": {},
     "output_type": "execute_result"
    }
   ],
   "source": [
    "df_Train.head()"
   ]
  },
  {
   "cell_type": "code",
   "execution_count": 14,
   "id": "c51d5291",
   "metadata": {
    "execution": {
     "iopub.execute_input": "2021-08-24T04:58:18.028815Z",
     "iopub.status.busy": "2021-08-24T04:58:18.028100Z",
     "iopub.status.idle": "2021-08-24T04:58:18.043668Z",
     "shell.execute_reply": "2021-08-24T04:58:18.044268Z",
     "shell.execute_reply.started": "2021-08-03T07:10:52.833793Z"
    },
    "papermill": {
     "duration": 0.058905,
     "end_time": "2021-08-24T04:58:18.044445",
     "exception": false,
     "start_time": "2021-08-24T04:58:17.985540",
     "status": "completed"
    },
    "tags": []
   },
   "outputs": [
    {
     "data": {
      "text/html": [
       "<div>\n",
       "<style scoped>\n",
       "    .dataframe tbody tr th:only-of-type {\n",
       "        vertical-align: middle;\n",
       "    }\n",
       "\n",
       "    .dataframe tbody tr th {\n",
       "        vertical-align: top;\n",
       "    }\n",
       "\n",
       "    .dataframe thead th {\n",
       "        text-align: right;\n",
       "    }\n",
       "</style>\n",
       "<table border=\"1\" class=\"dataframe\">\n",
       "  <thead>\n",
       "    <tr style=\"text-align: right;\">\n",
       "      <th></th>\n",
       "      <th>PassengerId</th>\n",
       "      <th>Pclass</th>\n",
       "      <th>Sex</th>\n",
       "      <th>Age</th>\n",
       "      <th>SibSp</th>\n",
       "      <th>Parch</th>\n",
       "      <th>Ticket</th>\n",
       "      <th>Fare</th>\n",
       "      <th>Cabin</th>\n",
       "      <th>Embarked</th>\n",
       "    </tr>\n",
       "  </thead>\n",
       "  <tbody>\n",
       "    <tr>\n",
       "      <th>0</th>\n",
       "      <td>892</td>\n",
       "      <td>3</td>\n",
       "      <td>male</td>\n",
       "      <td>34.5</td>\n",
       "      <td>0</td>\n",
       "      <td>0</td>\n",
       "      <td>330911</td>\n",
       "      <td>7.8292</td>\n",
       "      <td>NaN</td>\n",
       "      <td>Q</td>\n",
       "    </tr>\n",
       "    <tr>\n",
       "      <th>1</th>\n",
       "      <td>893</td>\n",
       "      <td>3</td>\n",
       "      <td>female</td>\n",
       "      <td>47.0</td>\n",
       "      <td>1</td>\n",
       "      <td>0</td>\n",
       "      <td>363272</td>\n",
       "      <td>7.0000</td>\n",
       "      <td>NaN</td>\n",
       "      <td>S</td>\n",
       "    </tr>\n",
       "    <tr>\n",
       "      <th>2</th>\n",
       "      <td>894</td>\n",
       "      <td>2</td>\n",
       "      <td>male</td>\n",
       "      <td>62.0</td>\n",
       "      <td>0</td>\n",
       "      <td>0</td>\n",
       "      <td>240276</td>\n",
       "      <td>9.6875</td>\n",
       "      <td>NaN</td>\n",
       "      <td>Q</td>\n",
       "    </tr>\n",
       "    <tr>\n",
       "      <th>3</th>\n",
       "      <td>895</td>\n",
       "      <td>3</td>\n",
       "      <td>male</td>\n",
       "      <td>27.0</td>\n",
       "      <td>0</td>\n",
       "      <td>0</td>\n",
       "      <td>315154</td>\n",
       "      <td>8.6625</td>\n",
       "      <td>NaN</td>\n",
       "      <td>S</td>\n",
       "    </tr>\n",
       "    <tr>\n",
       "      <th>4</th>\n",
       "      <td>896</td>\n",
       "      <td>3</td>\n",
       "      <td>female</td>\n",
       "      <td>22.0</td>\n",
       "      <td>1</td>\n",
       "      <td>1</td>\n",
       "      <td>3101298</td>\n",
       "      <td>12.2875</td>\n",
       "      <td>NaN</td>\n",
       "      <td>S</td>\n",
       "    </tr>\n",
       "  </tbody>\n",
       "</table>\n",
       "</div>"
      ],
      "text/plain": [
       "   PassengerId  Pclass     Sex   Age  SibSp  Parch   Ticket     Fare Cabin  \\\n",
       "0          892       3    male  34.5      0      0   330911   7.8292   NaN   \n",
       "1          893       3  female  47.0      1      0   363272   7.0000   NaN   \n",
       "2          894       2    male  62.0      0      0   240276   9.6875   NaN   \n",
       "3          895       3    male  27.0      0      0   315154   8.6625   NaN   \n",
       "4          896       3  female  22.0      1      1  3101298  12.2875   NaN   \n",
       "\n",
       "  Embarked  \n",
       "0        Q  \n",
       "1        S  \n",
       "2        Q  \n",
       "3        S  \n",
       "4        S  "
      ]
     },
     "execution_count": 14,
     "metadata": {},
     "output_type": "execute_result"
    }
   ],
   "source": [
    "df_Test.head()"
   ]
  },
  {
   "cell_type": "code",
   "execution_count": 15,
   "id": "b77af998",
   "metadata": {
    "execution": {
     "iopub.execute_input": "2021-08-24T04:58:18.128633Z",
     "iopub.status.busy": "2021-08-24T04:58:18.127917Z",
     "iopub.status.idle": "2021-08-24T04:58:18.146779Z",
     "shell.execute_reply": "2021-08-24T04:58:18.146200Z",
     "shell.execute_reply.started": "2021-08-03T07:11:07.097861Z"
    },
    "papermill": {
     "duration": 0.062929,
     "end_time": "2021-08-24T04:58:18.146924",
     "exception": false,
     "start_time": "2021-08-24T04:58:18.083995",
     "status": "completed"
    },
    "tags": []
   },
   "outputs": [
    {
     "name": "stderr",
     "output_type": "stream",
     "text": [
      "/opt/conda/lib/python3.7/site-packages/ipykernel_launcher.py:1: SettingWithCopyWarning: \n",
      "A value is trying to be set on a copy of a slice from a DataFrame\n",
      "\n",
      "See the caveats in the documentation: https://pandas.pydata.org/pandas-docs/stable/user_guide/indexing.html#returning-a-view-versus-a-copy\n",
      "  \"\"\"Entry point for launching an IPython kernel.\n",
      "/opt/conda/lib/python3.7/site-packages/ipykernel_launcher.py:2: SettingWithCopyWarning: \n",
      "A value is trying to be set on a copy of a slice from a DataFrame\n",
      "\n",
      "See the caveats in the documentation: https://pandas.pydata.org/pandas-docs/stable/user_guide/indexing.html#returning-a-view-versus-a-copy\n",
      "  \n",
      "/opt/conda/lib/python3.7/site-packages/ipykernel_launcher.py:4: SettingWithCopyWarning: \n",
      "A value is trying to be set on a copy of a slice from a DataFrame\n",
      "\n",
      "See the caveats in the documentation: https://pandas.pydata.org/pandas-docs/stable/user_guide/indexing.html#returning-a-view-versus-a-copy\n",
      "  after removing the cwd from sys.path.\n",
      "/opt/conda/lib/python3.7/site-packages/ipykernel_launcher.py:5: SettingWithCopyWarning: \n",
      "A value is trying to be set on a copy of a slice from a DataFrame\n",
      "\n",
      "See the caveats in the documentation: https://pandas.pydata.org/pandas-docs/stable/user_guide/indexing.html#returning-a-view-versus-a-copy\n",
      "  \"\"\"\n"
     ]
    }
   ],
   "source": [
    "df_Train.Sex[df_Train.Sex == 'male'] = 1\n",
    "df_Train.Sex[df_Train.Sex == 'female'] = 2\n",
    "\n",
    "df_Test.Sex[df_Test.Sex == 'male'] = 1\n",
    "df_Test.Sex[df_Test.Sex == 'female'] = 2"
   ]
  },
  {
   "cell_type": "code",
   "execution_count": 16,
   "id": "6ec5a547",
   "metadata": {
    "execution": {
     "iopub.execute_input": "2021-08-24T04:58:18.251825Z",
     "iopub.status.busy": "2021-08-24T04:58:18.250886Z",
     "iopub.status.idle": "2021-08-24T04:58:18.255560Z",
     "shell.execute_reply": "2021-08-24T04:58:18.254984Z",
     "shell.execute_reply.started": "2021-08-03T07:11:23.636294Z"
    },
    "papermill": {
     "duration": 0.067828,
     "end_time": "2021-08-24T04:58:18.255705",
     "exception": false,
     "start_time": "2021-08-24T04:58:18.187877",
     "status": "completed"
    },
    "tags": []
   },
   "outputs": [
    {
     "name": "stderr",
     "output_type": "stream",
     "text": [
      "/opt/conda/lib/python3.7/site-packages/ipykernel_launcher.py:1: SettingWithCopyWarning: \n",
      "A value is trying to be set on a copy of a slice from a DataFrame\n",
      "\n",
      "See the caveats in the documentation: https://pandas.pydata.org/pandas-docs/stable/user_guide/indexing.html#returning-a-view-versus-a-copy\n",
      "  \"\"\"Entry point for launching an IPython kernel.\n",
      "/opt/conda/lib/python3.7/site-packages/ipykernel_launcher.py:2: SettingWithCopyWarning: \n",
      "A value is trying to be set on a copy of a slice from a DataFrame\n",
      "\n",
      "See the caveats in the documentation: https://pandas.pydata.org/pandas-docs/stable/user_guide/indexing.html#returning-a-view-versus-a-copy\n",
      "  \n",
      "/opt/conda/lib/python3.7/site-packages/ipykernel_launcher.py:3: SettingWithCopyWarning: \n",
      "A value is trying to be set on a copy of a slice from a DataFrame\n",
      "\n",
      "See the caveats in the documentation: https://pandas.pydata.org/pandas-docs/stable/user_guide/indexing.html#returning-a-view-versus-a-copy\n",
      "  This is separate from the ipykernel package so we can avoid doing imports until\n",
      "/opt/conda/lib/python3.7/site-packages/ipykernel_launcher.py:5: SettingWithCopyWarning: \n",
      "A value is trying to be set on a copy of a slice from a DataFrame\n",
      "\n",
      "See the caveats in the documentation: https://pandas.pydata.org/pandas-docs/stable/user_guide/indexing.html#returning-a-view-versus-a-copy\n",
      "  \"\"\"\n",
      "/opt/conda/lib/python3.7/site-packages/ipykernel_launcher.py:6: SettingWithCopyWarning: \n",
      "A value is trying to be set on a copy of a slice from a DataFrame\n",
      "\n",
      "See the caveats in the documentation: https://pandas.pydata.org/pandas-docs/stable/user_guide/indexing.html#returning-a-view-versus-a-copy\n",
      "  \n",
      "/opt/conda/lib/python3.7/site-packages/ipykernel_launcher.py:7: SettingWithCopyWarning: \n",
      "A value is trying to be set on a copy of a slice from a DataFrame\n",
      "\n",
      "See the caveats in the documentation: https://pandas.pydata.org/pandas-docs/stable/user_guide/indexing.html#returning-a-view-versus-a-copy\n",
      "  import sys\n"
     ]
    }
   ],
   "source": [
    "df_Train.Embarked[df_Train.Embarked == 'Q'] = 1\n",
    "df_Train.Embarked[df_Train.Embarked == 'S'] = 2\n",
    "df_Train.Embarked[df_Train.Embarked == 'C'] = 3\n",
    "\n",
    "df_Test.Embarked[df_Test.Embarked == 'Q'] = 1\n",
    "df_Test.Embarked[df_Test.Embarked == 'S'] = 2\n",
    "df_Test.Embarked[df_Test.Embarked == 'C'] = 3"
   ]
  },
  {
   "cell_type": "code",
   "execution_count": 17,
   "id": "4e9e852e",
   "metadata": {
    "execution": {
     "iopub.execute_input": "2021-08-24T04:58:18.348556Z",
     "iopub.status.busy": "2021-08-24T04:58:18.347760Z",
     "iopub.status.idle": "2021-08-24T04:58:18.350875Z",
     "shell.execute_reply": "2021-08-24T04:58:18.351435Z",
     "shell.execute_reply.started": "2021-08-03T07:11:38.970993Z"
    },
    "papermill": {
     "duration": 0.055086,
     "end_time": "2021-08-24T04:58:18.351617",
     "exception": false,
     "start_time": "2021-08-24T04:58:18.296531",
     "status": "completed"
    },
    "tags": []
   },
   "outputs": [],
   "source": [
    "df_Train['Age']=df_Train['Age'].fillna(df_Train['Age'].mode()[0])\n",
    "df_Test['Age']=df_Test['Age'].fillna(df_Test['Age'].mode()[0])\n",
    "\n",
    "df_Train['Embarked']=df_Train['Embarked'].fillna(df_Train['Embarked'].mode()[0])\n",
    "df_Test['Fare']=df_Test['Fare'].fillna(df_Test['Fare'].mode()[0])"
   ]
  },
  {
   "cell_type": "code",
   "execution_count": 18,
   "id": "6bc029c2",
   "metadata": {
    "execution": {
     "iopub.execute_input": "2021-08-24T04:58:18.435961Z",
     "iopub.status.busy": "2021-08-24T04:58:18.435307Z",
     "iopub.status.idle": "2021-08-24T04:58:18.649529Z",
     "shell.execute_reply": "2021-08-24T04:58:18.650056Z",
     "shell.execute_reply.started": "2021-08-03T07:11:52.052499Z"
    },
    "papermill": {
     "duration": 0.258153,
     "end_time": "2021-08-24T04:58:18.650272",
     "exception": false,
     "start_time": "2021-08-24T04:58:18.392119",
     "status": "completed"
    },
    "tags": []
   },
   "outputs": [
    {
     "data": {
      "text/plain": [
       "<AxesSubplot:>"
      ]
     },
     "execution_count": 18,
     "metadata": {},
     "output_type": "execute_result"
    },
    {
     "data": {
      "image/png": "[encoded data removed]",
      "text/plain": [
       "<Figure size 432x288 with 1 Axes>"
      ]
     },
     "metadata": {
      "needs_background": "light"
     },
     "output_type": "display_data"
    }
   ],
   "source": [
    "sns.heatmap(df_Train.isnull(),yticklabels=False,cbar=False)"
   ]
  },
  {
   "cell_type": "code",
   "execution_count": 19,
   "id": "20f4932d",
   "metadata": {
    "execution": {
     "iopub.execute_input": "2021-08-24T04:58:18.741560Z",
     "iopub.status.busy": "2021-08-24T04:58:18.740504Z",
     "iopub.status.idle": "2021-08-24T04:58:18.894383Z",
     "shell.execute_reply": "2021-08-24T04:58:18.893777Z",
     "shell.execute_reply.started": "2021-08-03T07:12:08.679025Z"
    },
    "papermill": {
     "duration": 0.202857,
     "end_time": "2021-08-24T04:58:18.894571",
     "exception": false,
     "start_time": "2021-08-24T04:58:18.691714",
     "status": "completed"
    },
    "tags": []
   },
   "outputs": [
    {
     "data": {
      "text/plain": [
       "<AxesSubplot:>"
      ]
     },
     "execution_count": 19,
     "metadata": {},
     "output_type": "execute_result"
    },
    {
     "data": {
      "image/png": "[encoded data removed]",
      "text/plain": [
       "<Figure size 432x288 with 1 Axes>"
      ]
     },
     "metadata": {
      "needs_background": "light"
     },
     "output_type": "display_data"
    }
   ],
   "source": [
    "sns.heatmap(df_Test.isnull(),yticklabels=False,cbar=False)"
   ]
  },
  {
   "cell_type": "code",
   "execution_count": 20,
   "id": "86ef75e1",
   "metadata": {
    "execution": {
     "iopub.execute_input": "2021-08-24T04:58:18.988441Z",
     "iopub.status.busy": "2021-08-24T04:58:18.987720Z",
     "iopub.status.idle": "2021-08-24T04:58:18.994949Z",
     "shell.execute_reply": "2021-08-24T04:58:18.995485Z",
     "shell.execute_reply.started": "2021-08-03T07:12:23.16887Z"
    },
    "papermill": {
     "duration": 0.05726,
     "end_time": "2021-08-24T04:58:18.995673",
     "exception": false,
     "start_time": "2021-08-24T04:58:18.938413",
     "status": "completed"
    },
    "tags": []
   },
   "outputs": [],
   "source": [
    "df_Train.drop(['Cabin'],axis=1,inplace=True)\n",
    "df_Test.drop(['Cabin'],axis=1,inplace=True)\n",
    "\n",
    "df_Train.drop(['Ticket'],axis=1,inplace=True)\n",
    "df_Test.drop(['Ticket'],axis=1,inplace=True)"
   ]
  },
  {
   "cell_type": "code",
   "execution_count": 21,
   "id": "4df4f91f",
   "metadata": {
    "execution": {
     "iopub.execute_input": "2021-08-24T04:58:19.084299Z",
     "iopub.status.busy": "2021-08-24T04:58:19.083579Z",
     "iopub.status.idle": "2021-08-24T04:58:19.097722Z",
     "shell.execute_reply": "2021-08-24T04:58:19.098381Z",
     "shell.execute_reply.started": "2021-08-03T07:12:35.953122Z"
    },
    "papermill": {
     "duration": 0.0602,
     "end_time": "2021-08-24T04:58:19.098563",
     "exception": false,
     "start_time": "2021-08-24T04:58:19.038363",
     "status": "completed"
    },
    "tags": []
   },
   "outputs": [
    {
     "data": {
      "text/html": [
       "<div>\n",
       "<style scoped>\n",
       "    .dataframe tbody tr th:only-of-type {\n",
       "        vertical-align: middle;\n",
       "    }\n",
       "\n",
       "    .dataframe tbody tr th {\n",
       "        vertical-align: top;\n",
       "    }\n",
       "\n",
       "    .dataframe thead th {\n",
       "        text-align: right;\n",
       "    }\n",
       "</style>\n",
       "<table border=\"1\" class=\"dataframe\">\n",
       "  <thead>\n",
       "    <tr style=\"text-align: right;\">\n",
       "      <th></th>\n",
       "      <th>PassengerId</th>\n",
       "      <th>Survived</th>\n",
       "      <th>Pclass</th>\n",
       "      <th>Sex</th>\n",
       "      <th>Age</th>\n",
       "      <th>SibSp</th>\n",
       "      <th>Parch</th>\n",
       "      <th>Fare</th>\n",
       "      <th>Embarked</th>\n",
       "    </tr>\n",
       "  </thead>\n",
       "  <tbody>\n",
       "    <tr>\n",
       "      <th>0</th>\n",
       "      <td>1</td>\n",
       "      <td>0</td>\n",
       "      <td>3</td>\n",
       "      <td>1</td>\n",
       "      <td>22.0</td>\n",
       "      <td>1</td>\n",
       "      <td>0</td>\n",
       "      <td>7.2500</td>\n",
       "      <td>2</td>\n",
       "    </tr>\n",
       "    <tr>\n",
       "      <th>1</th>\n",
       "      <td>2</td>\n",
       "      <td>1</td>\n",
       "      <td>1</td>\n",
       "      <td>2</td>\n",
       "      <td>38.0</td>\n",
       "      <td>1</td>\n",
       "      <td>0</td>\n",
       "      <td>71.2833</td>\n",
       "      <td>3</td>\n",
       "    </tr>\n",
       "    <tr>\n",
       "      <th>2</th>\n",
       "      <td>3</td>\n",
       "      <td>1</td>\n",
       "      <td>3</td>\n",
       "      <td>2</td>\n",
       "      <td>26.0</td>\n",
       "      <td>0</td>\n",
       "      <td>0</td>\n",
       "      <td>7.9250</td>\n",
       "      <td>2</td>\n",
       "    </tr>\n",
       "    <tr>\n",
       "      <th>3</th>\n",
       "      <td>4</td>\n",
       "      <td>1</td>\n",
       "      <td>1</td>\n",
       "      <td>2</td>\n",
       "      <td>35.0</td>\n",
       "      <td>1</td>\n",
       "      <td>0</td>\n",
       "      <td>53.1000</td>\n",
       "      <td>2</td>\n",
       "    </tr>\n",
       "    <tr>\n",
       "      <th>4</th>\n",
       "      <td>5</td>\n",
       "      <td>0</td>\n",
       "      <td>3</td>\n",
       "      <td>1</td>\n",
       "      <td>35.0</td>\n",
       "      <td>0</td>\n",
       "      <td>0</td>\n",
       "      <td>8.0500</td>\n",
       "      <td>2</td>\n",
       "    </tr>\n",
       "  </tbody>\n",
       "</table>\n",
       "</div>"
      ],
      "text/plain": [
       "   PassengerId  Survived  Pclass Sex   Age  SibSp  Parch     Fare  Embarked\n",
       "0            1         0       3   1  22.0      1      0   7.2500         2\n",
       "1            2         1       1   2  38.0      1      0  71.2833         3\n",
       "2            3         1       3   2  26.0      0      0   7.9250         2\n",
       "3            4         1       1   2  35.0      1      0  53.1000         2\n",
       "4            5         0       3   1  35.0      0      0   8.0500         2"
      ]
     },
     "execution_count": 21,
     "metadata": {},
     "output_type": "execute_result"
    }
   ],
   "source": [
    "df_Train.head()"
   ]
  },
  {
   "cell_type": "code",
   "execution_count": 22,
   "id": "17f439a0",
   "metadata": {
    "execution": {
     "iopub.execute_input": "2021-08-24T04:58:19.189860Z",
     "iopub.status.busy": "2021-08-24T04:58:19.189162Z",
     "iopub.status.idle": "2021-08-24T04:58:19.202962Z",
     "shell.execute_reply": "2021-08-24T04:58:19.203563Z",
     "shell.execute_reply.started": "2021-08-03T07:12:47.620571Z"
    },
    "papermill": {
     "duration": 0.061342,
     "end_time": "2021-08-24T04:58:19.203786",
     "exception": false,
     "start_time": "2021-08-24T04:58:19.142444",
     "status": "completed"
    },
    "tags": []
   },
   "outputs": [
    {
     "data": {
      "text/html": [
       "<div>\n",
       "<style scoped>\n",
       "    .dataframe tbody tr th:only-of-type {\n",
       "        vertical-align: middle;\n",
       "    }\n",
       "\n",
       "    .dataframe tbody tr th {\n",
       "        vertical-align: top;\n",
       "    }\n",
       "\n",
       "    .dataframe thead th {\n",
       "        text-align: right;\n",
       "    }\n",
       "</style>\n",
       "<table border=\"1\" class=\"dataframe\">\n",
       "  <thead>\n",
       "    <tr style=\"text-align: right;\">\n",
       "      <th></th>\n",
       "      <th>PassengerId</th>\n",
       "      <th>Pclass</th>\n",
       "      <th>Sex</th>\n",
       "      <th>Age</th>\n",
       "      <th>SibSp</th>\n",
       "      <th>Parch</th>\n",
       "      <th>Fare</th>\n",
       "      <th>Embarked</th>\n",
       "    </tr>\n",
       "  </thead>\n",
       "  <tbody>\n",
       "    <tr>\n",
       "      <th>0</th>\n",
       "      <td>892</td>\n",
       "      <td>3</td>\n",
       "      <td>1</td>\n",
       "      <td>34.5</td>\n",
       "      <td>0</td>\n",
       "      <td>0</td>\n",
       "      <td>7.8292</td>\n",
       "      <td>1</td>\n",
       "    </tr>\n",
       "    <tr>\n",
       "      <th>1</th>\n",
       "      <td>893</td>\n",
       "      <td>3</td>\n",
       "      <td>2</td>\n",
       "      <td>47.0</td>\n",
       "      <td>1</td>\n",
       "      <td>0</td>\n",
       "      <td>7.0000</td>\n",
       "      <td>2</td>\n",
       "    </tr>\n",
       "    <tr>\n",
       "      <th>2</th>\n",
       "      <td>894</td>\n",
       "      <td>2</td>\n",
       "      <td>1</td>\n",
       "      <td>62.0</td>\n",
       "      <td>0</td>\n",
       "      <td>0</td>\n",
       "      <td>9.6875</td>\n",
       "      <td>1</td>\n",
       "    </tr>\n",
       "    <tr>\n",
       "      <th>3</th>\n",
       "      <td>895</td>\n",
       "      <td>3</td>\n",
       "      <td>1</td>\n",
       "      <td>27.0</td>\n",
       "      <td>0</td>\n",
       "      <td>0</td>\n",
       "      <td>8.6625</td>\n",
       "      <td>2</td>\n",
       "    </tr>\n",
       "    <tr>\n",
       "      <th>4</th>\n",
       "      <td>896</td>\n",
       "      <td>3</td>\n",
       "      <td>2</td>\n",
       "      <td>22.0</td>\n",
       "      <td>1</td>\n",
       "      <td>1</td>\n",
       "      <td>12.2875</td>\n",
       "      <td>2</td>\n",
       "    </tr>\n",
       "  </tbody>\n",
       "</table>\n",
       "</div>"
      ],
      "text/plain": [
       "   PassengerId  Pclass Sex   Age  SibSp  Parch     Fare Embarked\n",
       "0          892       3   1  34.5      0      0   7.8292        1\n",
       "1          893       3   2  47.0      1      0   7.0000        2\n",
       "2          894       2   1  62.0      0      0   9.6875        1\n",
       "3          895       3   1  27.0      0      0   8.6625        2\n",
       "4          896       3   2  22.0      1      1  12.2875        2"
      ]
     },
     "execution_count": 22,
     "metadata": {},
     "output_type": "execute_result"
    }
   ],
   "source": [
    "df_Test.head()"
   ]
  },
  {
   "cell_type": "code",
   "execution_count": 23,
   "id": "f36beb86",
   "metadata": {
    "execution": {
     "iopub.execute_input": "2021-08-24T04:58:19.295633Z",
     "iopub.status.busy": "2021-08-24T04:58:19.294928Z",
     "iopub.status.idle": "2021-08-24T04:58:19.329164Z",
     "shell.execute_reply": "2021-08-24T04:58:19.328317Z",
     "shell.execute_reply.started": "2021-08-03T07:13:00.668156Z"
    },
    "papermill": {
     "duration": 0.080618,
     "end_time": "2021-08-24T04:58:19.329390",
     "exception": false,
     "start_time": "2021-08-24T04:58:19.248772",
     "status": "completed"
    },
    "tags": []
   },
   "outputs": [
    {
     "name": "stderr",
     "output_type": "stream",
     "text": [
      "/opt/conda/lib/python3.7/site-packages/ipykernel_launcher.py:1: SettingWithCopyWarning: \n",
      "A value is trying to be set on a copy of a slice from a DataFrame\n",
      "\n",
      "See the caveats in the documentation: https://pandas.pydata.org/pandas-docs/stable/user_guide/indexing.html#returning-a-view-versus-a-copy\n",
      "  \"\"\"Entry point for launching an IPython kernel.\n",
      "/opt/conda/lib/python3.7/site-packages/ipykernel_launcher.py:2: SettingWithCopyWarning: \n",
      "A value is trying to be set on a copy of a slice from a DataFrame\n",
      "\n",
      "See the caveats in the documentation: https://pandas.pydata.org/pandas-docs/stable/user_guide/indexing.html#returning-a-view-versus-a-copy\n",
      "  \n",
      "/opt/conda/lib/python3.7/site-packages/ipykernel_launcher.py:3: SettingWithCopyWarning: \n",
      "A value is trying to be set on a copy of a slice from a DataFrame\n",
      "\n",
      "See the caveats in the documentation: https://pandas.pydata.org/pandas-docs/stable/user_guide/indexing.html#returning-a-view-versus-a-copy\n",
      "  This is separate from the ipykernel package so we can avoid doing imports until\n",
      "/opt/conda/lib/python3.7/site-packages/ipykernel_launcher.py:4: SettingWithCopyWarning: \n",
      "A value is trying to be set on a copy of a slice from a DataFrame\n",
      "\n",
      "See the caveats in the documentation: https://pandas.pydata.org/pandas-docs/stable/user_guide/indexing.html#returning-a-view-versus-a-copy\n",
      "  after removing the cwd from sys.path.\n",
      "/opt/conda/lib/python3.7/site-packages/ipykernel_launcher.py:6: SettingWithCopyWarning: \n",
      "A value is trying to be set on a copy of a slice from a DataFrame\n",
      "\n",
      "See the caveats in the documentation: https://pandas.pydata.org/pandas-docs/stable/user_guide/indexing.html#returning-a-view-versus-a-copy\n",
      "  \n",
      "/opt/conda/lib/python3.7/site-packages/ipykernel_launcher.py:7: SettingWithCopyWarning: \n",
      "A value is trying to be set on a copy of a slice from a DataFrame\n",
      "\n",
      "See the caveats in the documentation: https://pandas.pydata.org/pandas-docs/stable/user_guide/indexing.html#returning-a-view-versus-a-copy\n",
      "  import sys\n",
      "/opt/conda/lib/python3.7/site-packages/ipykernel_launcher.py:8: SettingWithCopyWarning: \n",
      "A value is trying to be set on a copy of a slice from a DataFrame\n",
      "\n",
      "See the caveats in the documentation: https://pandas.pydata.org/pandas-docs/stable/user_guide/indexing.html#returning-a-view-versus-a-copy\n",
      "  \n",
      "/opt/conda/lib/python3.7/site-packages/ipykernel_launcher.py:9: SettingWithCopyWarning: \n",
      "A value is trying to be set on a copy of a slice from a DataFrame\n",
      "\n",
      "See the caveats in the documentation: https://pandas.pydata.org/pandas-docs/stable/user_guide/indexing.html#returning-a-view-versus-a-copy\n",
      "  if __name__ == '__main__':\n"
     ]
    }
   ],
   "source": [
    "df_Train.Fare[df_Train.Fare <= 17] = 1\n",
    "df_Train.Fare[(df_Train.Fare > 17) & (df_Train.Fare <= 30)] = 2\n",
    "df_Train.Fare[(df_Train.Fare > 30) & (df_Train.Fare <= 100)] = 3\n",
    "df_Train.Fare[df_Train.Fare > 100] = 4\n",
    "\n",
    "df_Test.Fare[df_Test.Fare <= 17] = 1\n",
    "df_Test.Fare[(df_Test.Fare > 17) & (df_Test.Fare <= 30)] = 2\n",
    "df_Test.Fare[(df_Test.Fare > 30) & (df_Test.Fare <= 100)] = 3\n",
    "df_Test.Fare[df_Test.Fare > 100] = 4"
   ]
  },
  {
   "cell_type": "code",
   "execution_count": 24,
   "id": "a72a8cb4",
   "metadata": {
    "execution": {
     "iopub.execute_input": "2021-08-24T04:58:19.428730Z",
     "iopub.status.busy": "2021-08-24T04:58:19.427957Z",
     "iopub.status.idle": "2021-08-24T04:58:19.465356Z",
     "shell.execute_reply": "2021-08-24T04:58:19.465915Z",
     "shell.execute_reply.started": "2021-08-03T07:13:19.393526Z"
    },
    "papermill": {
     "duration": 0.091206,
     "end_time": "2021-08-24T04:58:19.466111",
     "exception": false,
     "start_time": "2021-08-24T04:58:19.374905",
     "status": "completed"
    },
    "tags": []
   },
   "outputs": [
    {
     "name": "stderr",
     "output_type": "stream",
     "text": [
      "/opt/conda/lib/python3.7/site-packages/ipykernel_launcher.py:1: SettingWithCopyWarning: \n",
      "A value is trying to be set on a copy of a slice from a DataFrame\n",
      "\n",
      "See the caveats in the documentation: https://pandas.pydata.org/pandas-docs/stable/user_guide/indexing.html#returning-a-view-versus-a-copy\n",
      "  \"\"\"Entry point for launching an IPython kernel.\n",
      "/opt/conda/lib/python3.7/site-packages/ipykernel_launcher.py:2: SettingWithCopyWarning: \n",
      "A value is trying to be set on a copy of a slice from a DataFrame\n",
      "\n",
      "See the caveats in the documentation: https://pandas.pydata.org/pandas-docs/stable/user_guide/indexing.html#returning-a-view-versus-a-copy\n",
      "  \n",
      "/opt/conda/lib/python3.7/site-packages/ipykernel_launcher.py:3: SettingWithCopyWarning: \n",
      "A value is trying to be set on a copy of a slice from a DataFrame\n",
      "\n",
      "See the caveats in the documentation: https://pandas.pydata.org/pandas-docs/stable/user_guide/indexing.html#returning-a-view-versus-a-copy\n",
      "  This is separate from the ipykernel package so we can avoid doing imports until\n",
      "/opt/conda/lib/python3.7/site-packages/ipykernel_launcher.py:4: SettingWithCopyWarning: \n",
      "A value is trying to be set on a copy of a slice from a DataFrame\n",
      "\n",
      "See the caveats in the documentation: https://pandas.pydata.org/pandas-docs/stable/user_guide/indexing.html#returning-a-view-versus-a-copy\n",
      "  after removing the cwd from sys.path.\n",
      "/opt/conda/lib/python3.7/site-packages/ipykernel_launcher.py:5: SettingWithCopyWarning: \n",
      "A value is trying to be set on a copy of a slice from a DataFrame\n",
      "\n",
      "See the caveats in the documentation: https://pandas.pydata.org/pandas-docs/stable/user_guide/indexing.html#returning-a-view-versus-a-copy\n",
      "  \"\"\"\n",
      "/opt/conda/lib/python3.7/site-packages/ipykernel_launcher.py:7: SettingWithCopyWarning: \n",
      "A value is trying to be set on a copy of a slice from a DataFrame\n",
      "\n",
      "See the caveats in the documentation: https://pandas.pydata.org/pandas-docs/stable/user_guide/indexing.html#returning-a-view-versus-a-copy\n",
      "  import sys\n",
      "/opt/conda/lib/python3.7/site-packages/ipykernel_launcher.py:8: SettingWithCopyWarning: \n",
      "A value is trying to be set on a copy of a slice from a DataFrame\n",
      "\n",
      "See the caveats in the documentation: https://pandas.pydata.org/pandas-docs/stable/user_guide/indexing.html#returning-a-view-versus-a-copy\n",
      "  \n",
      "/opt/conda/lib/python3.7/site-packages/ipykernel_launcher.py:9: SettingWithCopyWarning: \n",
      "A value is trying to be set on a copy of a slice from a DataFrame\n",
      "\n",
      "See the caveats in the documentation: https://pandas.pydata.org/pandas-docs/stable/user_guide/indexing.html#returning-a-view-versus-a-copy\n",
      "  if __name__ == '__main__':\n",
      "/opt/conda/lib/python3.7/site-packages/ipykernel_launcher.py:10: SettingWithCopyWarning: \n",
      "A value is trying to be set on a copy of a slice from a DataFrame\n",
      "\n",
      "See the caveats in the documentation: https://pandas.pydata.org/pandas-docs/stable/user_guide/indexing.html#returning-a-view-versus-a-copy\n",
      "  # Remove the CWD from sys.path while we load stuff.\n",
      "/opt/conda/lib/python3.7/site-packages/ipykernel_launcher.py:11: SettingWithCopyWarning: \n",
      "A value is trying to be set on a copy of a slice from a DataFrame\n",
      "\n",
      "See the caveats in the documentation: https://pandas.pydata.org/pandas-docs/stable/user_guide/indexing.html#returning-a-view-versus-a-copy\n",
      "  # This is added back by InteractiveShellApp.init_path()\n"
     ]
    }
   ],
   "source": [
    "df_Train.Age[df_Train.Age <= 16] = 0\n",
    "df_Train.Age[(df_Train.Age > 16) & (df_Train.Age <= 26)] = 1\n",
    "df_Train.Age[(df_Train.Age > 26) & (df_Train.Age <= 36)] = 2\n",
    "df_Train.Age[(df_Train.Age > 36) & (df_Train.Age <= 62)] = 3\n",
    "df_Train.Age[df_Train.Age > 62] = 4\n",
    "\n",
    "df_Test.Age[df_Test.Age <= 16] = 0\n",
    "df_Test.Age[(df_Test.Age > 16) & (df_Test.Age <= 26)] = 1\n",
    "df_Test.Age[(df_Test.Age > 26) & (df_Test.Age <= 36)] = 2\n",
    "df_Test.Age[(df_Test.Age > 36) & (df_Test.Age <= 62)] = 3\n",
    "df_Test.Age[df_Test.Age > 62] = 4"
   ]
  },
  {
   "cell_type": "code",
   "execution_count": 25,
   "id": "60e4f466",
   "metadata": {
    "execution": {
     "iopub.execute_input": "2021-08-24T04:58:19.570418Z",
     "iopub.status.busy": "2021-08-24T04:58:19.569423Z",
     "iopub.status.idle": "2021-08-24T04:58:19.574556Z",
     "shell.execute_reply": "2021-08-24T04:58:19.573972Z",
     "shell.execute_reply.started": "2021-08-03T07:13:35.865799Z"
    },
    "papermill": {
     "duration": 0.064,
     "end_time": "2021-08-24T04:58:19.574702",
     "exception": false,
     "start_time": "2021-08-24T04:58:19.510702",
     "status": "completed"
    },
    "tags": []
   },
   "outputs": [
    {
     "data": {
      "text/html": [
       "<div>\n",
       "<style scoped>\n",
       "    .dataframe tbody tr th:only-of-type {\n",
       "        vertical-align: middle;\n",
       "    }\n",
       "\n",
       "    .dataframe tbody tr th {\n",
       "        vertical-align: top;\n",
       "    }\n",
       "\n",
       "    .dataframe thead th {\n",
       "        text-align: right;\n",
       "    }\n",
       "</style>\n",
       "<table border=\"1\" class=\"dataframe\">\n",
       "  <thead>\n",
       "    <tr style=\"text-align: right;\">\n",
       "      <th></th>\n",
       "      <th>PassengerId</th>\n",
       "      <th>Survived</th>\n",
       "      <th>Pclass</th>\n",
       "      <th>Sex</th>\n",
       "      <th>Age</th>\n",
       "      <th>SibSp</th>\n",
       "      <th>Parch</th>\n",
       "      <th>Fare</th>\n",
       "      <th>Embarked</th>\n",
       "    </tr>\n",
       "  </thead>\n",
       "  <tbody>\n",
       "    <tr>\n",
       "      <th>0</th>\n",
       "      <td>1</td>\n",
       "      <td>0</td>\n",
       "      <td>3</td>\n",
       "      <td>1</td>\n",
       "      <td>1.0</td>\n",
       "      <td>1</td>\n",
       "      <td>0</td>\n",
       "      <td>1.0</td>\n",
       "      <td>2</td>\n",
       "    </tr>\n",
       "    <tr>\n",
       "      <th>1</th>\n",
       "      <td>2</td>\n",
       "      <td>1</td>\n",
       "      <td>1</td>\n",
       "      <td>2</td>\n",
       "      <td>3.0</td>\n",
       "      <td>1</td>\n",
       "      <td>0</td>\n",
       "      <td>3.0</td>\n",
       "      <td>3</td>\n",
       "    </tr>\n",
       "    <tr>\n",
       "      <th>2</th>\n",
       "      <td>3</td>\n",
       "      <td>1</td>\n",
       "      <td>3</td>\n",
       "      <td>2</td>\n",
       "      <td>1.0</td>\n",
       "      <td>0</td>\n",
       "      <td>0</td>\n",
       "      <td>1.0</td>\n",
       "      <td>2</td>\n",
       "    </tr>\n",
       "    <tr>\n",
       "      <th>3</th>\n",
       "      <td>4</td>\n",
       "      <td>1</td>\n",
       "      <td>1</td>\n",
       "      <td>2</td>\n",
       "      <td>2.0</td>\n",
       "      <td>1</td>\n",
       "      <td>0</td>\n",
       "      <td>3.0</td>\n",
       "      <td>2</td>\n",
       "    </tr>\n",
       "    <tr>\n",
       "      <th>4</th>\n",
       "      <td>5</td>\n",
       "      <td>0</td>\n",
       "      <td>3</td>\n",
       "      <td>1</td>\n",
       "      <td>2.0</td>\n",
       "      <td>0</td>\n",
       "      <td>0</td>\n",
       "      <td>1.0</td>\n",
       "      <td>2</td>\n",
       "    </tr>\n",
       "  </tbody>\n",
       "</table>\n",
       "</div>"
      ],
      "text/plain": [
       "   PassengerId  Survived  Pclass Sex  Age  SibSp  Parch  Fare  Embarked\n",
       "0            1         0       3   1  1.0      1      0   1.0         2\n",
       "1            2         1       1   2  3.0      1      0   3.0         3\n",
       "2            3         1       3   2  1.0      0      0   1.0         2\n",
       "3            4         1       1   2  2.0      1      0   3.0         2\n",
       "4            5         0       3   1  2.0      0      0   1.0         2"
      ]
     },
     "execution_count": 25,
     "metadata": {},
     "output_type": "execute_result"
    }
   ],
   "source": [
    "df_Train.head()"
   ]
  },
  {
   "cell_type": "code",
   "execution_count": 26,
   "id": "c54dd999",
   "metadata": {
    "execution": {
     "iopub.execute_input": "2021-08-24T04:58:19.678759Z",
     "iopub.status.busy": "2021-08-24T04:58:19.677819Z",
     "iopub.status.idle": "2021-08-24T04:58:19.682199Z",
     "shell.execute_reply": "2021-08-24T04:58:19.681638Z",
     "shell.execute_reply.started": "2021-08-03T07:13:48.024102Z"
    },
    "papermill": {
     "duration": 0.062542,
     "end_time": "2021-08-24T04:58:19.682363",
     "exception": false,
     "start_time": "2021-08-24T04:58:19.619821",
     "status": "completed"
    },
    "tags": []
   },
   "outputs": [
    {
     "data": {
      "text/html": [
       "<div>\n",
       "<style scoped>\n",
       "    .dataframe tbody tr th:only-of-type {\n",
       "        vertical-align: middle;\n",
       "    }\n",
       "\n",
       "    .dataframe tbody tr th {\n",
       "        vertical-align: top;\n",
       "    }\n",
       "\n",
       "    .dataframe thead th {\n",
       "        text-align: right;\n",
       "    }\n",
       "</style>\n",
       "<table border=\"1\" class=\"dataframe\">\n",
       "  <thead>\n",
       "    <tr style=\"text-align: right;\">\n",
       "      <th></th>\n",
       "      <th>PassengerId</th>\n",
       "      <th>Pclass</th>\n",
       "      <th>Sex</th>\n",
       "      <th>Age</th>\n",
       "      <th>SibSp</th>\n",
       "      <th>Parch</th>\n",
       "      <th>Fare</th>\n",
       "      <th>Embarked</th>\n",
       "    </tr>\n",
       "  </thead>\n",
       "  <tbody>\n",
       "    <tr>\n",
       "      <th>0</th>\n",
       "      <td>892</td>\n",
       "      <td>3</td>\n",
       "      <td>1</td>\n",
       "      <td>2.0</td>\n",
       "      <td>0</td>\n",
       "      <td>0</td>\n",
       "      <td>1.0</td>\n",
       "      <td>1</td>\n",
       "    </tr>\n",
       "    <tr>\n",
       "      <th>1</th>\n",
       "      <td>893</td>\n",
       "      <td>3</td>\n",
       "      <td>2</td>\n",
       "      <td>3.0</td>\n",
       "      <td>1</td>\n",
       "      <td>0</td>\n",
       "      <td>1.0</td>\n",
       "      <td>2</td>\n",
       "    </tr>\n",
       "    <tr>\n",
       "      <th>2</th>\n",
       "      <td>894</td>\n",
       "      <td>2</td>\n",
       "      <td>1</td>\n",
       "      <td>3.0</td>\n",
       "      <td>0</td>\n",
       "      <td>0</td>\n",
       "      <td>1.0</td>\n",
       "      <td>1</td>\n",
       "    </tr>\n",
       "    <tr>\n",
       "      <th>3</th>\n",
       "      <td>895</td>\n",
       "      <td>3</td>\n",
       "      <td>1</td>\n",
       "      <td>2.0</td>\n",
       "      <td>0</td>\n",
       "      <td>0</td>\n",
       "      <td>1.0</td>\n",
       "      <td>2</td>\n",
       "    </tr>\n",
       "    <tr>\n",
       "      <th>4</th>\n",
       "      <td>896</td>\n",
       "      <td>3</td>\n",
       "      <td>2</td>\n",
       "      <td>1.0</td>\n",
       "      <td>1</td>\n",
       "      <td>1</td>\n",
       "      <td>1.0</td>\n",
       "      <td>2</td>\n",
       "    </tr>\n",
       "  </tbody>\n",
       "</table>\n",
       "</div>"
      ],
      "text/plain": [
       "   PassengerId  Pclass Sex  Age  SibSp  Parch  Fare Embarked\n",
       "0          892       3   1  2.0      0      0   1.0        1\n",
       "1          893       3   2  3.0      1      0   1.0        2\n",
       "2          894       2   1  3.0      0      0   1.0        1\n",
       "3          895       3   1  2.0      0      0   1.0        2\n",
       "4          896       3   2  1.0      1      1   1.0        2"
      ]
     },
     "execution_count": 26,
     "metadata": {},
     "output_type": "execute_result"
    }
   ],
   "source": [
    "df_Test.head()"
   ]
  },
  {
   "cell_type": "code",
   "execution_count": 27,
   "id": "05076201",
   "metadata": {
    "execution": {
     "iopub.execute_input": "2021-08-24T04:58:19.776631Z",
     "iopub.status.busy": "2021-08-24T04:58:19.775935Z",
     "iopub.status.idle": "2021-08-24T04:58:19.782781Z",
     "shell.execute_reply": "2021-08-24T04:58:19.782117Z",
     "shell.execute_reply.started": "2021-08-03T07:14:02.215989Z"
    },
    "papermill": {
     "duration": 0.055034,
     "end_time": "2021-08-24T04:58:19.782927",
     "exception": false,
     "start_time": "2021-08-24T04:58:19.727893",
     "status": "completed"
    },
    "tags": []
   },
   "outputs": [],
   "source": [
    "X=df_Train[['PassengerId','Pclass','Sex','Age','SibSp','Parch','Fare','Embarked']]\n",
    "y=df_Train[['Survived']]"
   ]
  },
  {
   "cell_type": "code",
   "execution_count": 28,
   "id": "ed5c2909",
   "metadata": {
    "execution": {
     "iopub.execute_input": "2021-08-24T04:58:19.880102Z",
     "iopub.status.busy": "2021-08-24T04:58:19.879434Z",
     "iopub.status.idle": "2021-08-24T04:58:20.081059Z",
     "shell.execute_reply": "2021-08-24T04:58:20.081639Z",
     "shell.execute_reply.started": "2021-08-03T07:14:16.835659Z"
    },
    "papermill": {
     "duration": 0.252516,
     "end_time": "2021-08-24T04:58:20.081839",
     "exception": false,
     "start_time": "2021-08-24T04:58:19.829323",
     "status": "completed"
    },
    "tags": []
   },
   "outputs": [],
   "source": [
    "from sklearn.model_selection import train_test_split\n",
    "X_train, X_test, y_train, y_test = train_test_split(X, y, test_size = 0.2, random_state = 0)"
   ]
  },
  {
   "cell_type": "code",
   "execution_count": 29,
   "id": "0dfba493",
   "metadata": {
    "execution": {
     "iopub.execute_input": "2021-08-24T04:58:20.176082Z",
     "iopub.status.busy": "2021-08-24T04:58:20.175430Z",
     "iopub.status.idle": "2021-08-24T04:58:20.183724Z",
     "shell.execute_reply": "2021-08-24T04:58:20.184263Z",
     "shell.execute_reply.started": "2021-08-03T07:14:30.880046Z"
    },
    "papermill": {
     "duration": 0.056887,
     "end_time": "2021-08-24T04:58:20.184468",
     "exception": false,
     "start_time": "2021-08-24T04:58:20.127581",
     "status": "completed"
    },
    "tags": []
   },
   "outputs": [
    {
     "data": {
      "text/plain": [
       "PassengerId    0\n",
       "Survived       0\n",
       "Pclass         0\n",
       "Sex            0\n",
       "Age            0\n",
       "SibSp          0\n",
       "Parch          0\n",
       "Fare           0\n",
       "Embarked       0\n",
       "dtype: int64"
      ]
     },
     "execution_count": 29,
     "metadata": {},
     "output_type": "execute_result"
    }
   ],
   "source": [
    "df_Train.isnull().sum()"
   ]
  },
  {
   "cell_type": "code",
   "execution_count": 30,
   "id": "5964d329",
   "metadata": {
    "execution": {
     "iopub.execute_input": "2021-08-24T04:58:20.282974Z",
     "iopub.status.busy": "2021-08-24T04:58:20.282266Z",
     "iopub.status.idle": "2021-08-24T04:58:20.290751Z",
     "shell.execute_reply": "2021-08-24T04:58:20.290016Z",
     "shell.execute_reply.started": "2021-08-03T07:14:52.259191Z"
    },
    "papermill": {
     "duration": 0.06005,
     "end_time": "2021-08-24T04:58:20.290906",
     "exception": false,
     "start_time": "2021-08-24T04:58:20.230856",
     "status": "completed"
    },
    "tags": []
   },
   "outputs": [
    {
     "data": {
      "text/plain": [
       "PassengerId      int64\n",
       "Pclass           int64\n",
       "Sex             object\n",
       "Age            float64\n",
       "SibSp            int64\n",
       "Parch            int64\n",
       "Fare           float64\n",
       "Embarked        object\n",
       "dtype: object"
      ]
     },
     "execution_count": 30,
     "metadata": {},
     "output_type": "execute_result"
    }
   ],
   "source": [
    "df_Test.dtypes"
   ]
  },
  {
   "cell_type": "code",
   "execution_count": 31,
   "id": "e376be8f",
   "metadata": {
    "execution": {
     "iopub.execute_input": "2021-08-24T04:58:20.396290Z",
     "iopub.status.busy": "2021-08-24T04:58:20.395568Z",
     "iopub.status.idle": "2021-08-24T04:58:20.399000Z",
     "shell.execute_reply": "2021-08-24T04:58:20.399640Z",
     "shell.execute_reply.started": "2021-08-03T07:15:20.265044Z"
    },
    "papermill": {
     "duration": 0.061288,
     "end_time": "2021-08-24T04:58:20.399835",
     "exception": false,
     "start_time": "2021-08-24T04:58:20.338547",
     "status": "completed"
    },
    "tags": []
   },
   "outputs": [
    {
     "data": {
      "text/plain": [
       "PassengerId      int64\n",
       "Pclass           int64\n",
       "Sex              int64\n",
       "Age            float64\n",
       "SibSp            int64\n",
       "Parch            int64\n",
       "Fare           float64\n",
       "Embarked         int64\n",
       "dtype: object"
      ]
     },
     "execution_count": 31,
     "metadata": {},
     "output_type": "execute_result"
    }
   ],
   "source": [
    "df_Test['Sex'] = df_Test['Sex'].astype(int) \n",
    "df_Test['Embarked'] = df_Test['Embarked'].astype(int)\n",
    "df_Test.dtypes"
   ]
  },
  {
   "cell_type": "code",
   "execution_count": 32,
   "id": "9ce4cc76",
   "metadata": {
    "execution": {
     "iopub.execute_input": "2021-08-24T04:58:20.503708Z",
     "iopub.status.busy": "2021-08-24T04:58:20.502957Z",
     "iopub.status.idle": "2021-08-24T04:58:20.510672Z",
     "shell.execute_reply": "2021-08-24T04:58:20.511211Z",
     "shell.execute_reply.started": "2021-08-03T07:15:41.499778Z"
    },
    "papermill": {
     "duration": 0.057724,
     "end_time": "2021-08-24T04:58:20.511422",
     "exception": false,
     "start_time": "2021-08-24T04:58:20.453698",
     "status": "completed"
    },
    "tags": []
   },
   "outputs": [
    {
     "data": {
      "text/plain": [
       "PassengerId    0\n",
       "Pclass         0\n",
       "Sex            0\n",
       "Age            0\n",
       "SibSp          0\n",
       "Parch          0\n",
       "Fare           0\n",
       "Embarked       0\n",
       "dtype: int64"
      ]
     },
     "execution_count": 32,
     "metadata": {},
     "output_type": "execute_result"
    }
   ],
   "source": [
    "df_Test.isnull().sum()"
   ]
  },
  {
   "cell_type": "code",
   "execution_count": 33,
   "id": "e408829e",
   "metadata": {
    "execution": {
     "iopub.execute_input": "2021-08-24T04:58:20.608815Z",
     "iopub.status.busy": "2021-08-24T04:58:20.608109Z",
     "iopub.status.idle": "2021-08-24T04:58:20.628581Z",
     "shell.execute_reply": "2021-08-24T04:58:20.629077Z",
     "shell.execute_reply.started": "2021-08-03T07:15:53.364332Z"
    },
    "papermill": {
     "duration": 0.070451,
     "end_time": "2021-08-24T04:58:20.629301",
     "exception": false,
     "start_time": "2021-08-24T04:58:20.558850",
     "status": "completed"
    },
    "tags": []
   },
   "outputs": [
    {
     "data": {
      "text/html": [
       "<div>\n",
       "<style scoped>\n",
       "    .dataframe tbody tr th:only-of-type {\n",
       "        vertical-align: middle;\n",
       "    }\n",
       "\n",
       "    .dataframe tbody tr th {\n",
       "        vertical-align: top;\n",
       "    }\n",
       "\n",
       "    .dataframe thead th {\n",
       "        text-align: right;\n",
       "    }\n",
       "</style>\n",
       "<table border=\"1\" class=\"dataframe\">\n",
       "  <thead>\n",
       "    <tr style=\"text-align: right;\">\n",
       "      <th></th>\n",
       "      <th>PassengerId</th>\n",
       "      <th>Pclass</th>\n",
       "      <th>Sex</th>\n",
       "      <th>Age</th>\n",
       "      <th>SibSp</th>\n",
       "      <th>Parch</th>\n",
       "      <th>Fare</th>\n",
       "      <th>Embarked</th>\n",
       "    </tr>\n",
       "  </thead>\n",
       "  <tbody>\n",
       "    <tr>\n",
       "      <th>0</th>\n",
       "      <td>892</td>\n",
       "      <td>3</td>\n",
       "      <td>1</td>\n",
       "      <td>2.0</td>\n",
       "      <td>0</td>\n",
       "      <td>0</td>\n",
       "      <td>1.0</td>\n",
       "      <td>1</td>\n",
       "    </tr>\n",
       "    <tr>\n",
       "      <th>1</th>\n",
       "      <td>893</td>\n",
       "      <td>3</td>\n",
       "      <td>2</td>\n",
       "      <td>3.0</td>\n",
       "      <td>1</td>\n",
       "      <td>0</td>\n",
       "      <td>1.0</td>\n",
       "      <td>2</td>\n",
       "    </tr>\n",
       "    <tr>\n",
       "      <th>2</th>\n",
       "      <td>894</td>\n",
       "      <td>2</td>\n",
       "      <td>1</td>\n",
       "      <td>3.0</td>\n",
       "      <td>0</td>\n",
       "      <td>0</td>\n",
       "      <td>1.0</td>\n",
       "      <td>1</td>\n",
       "    </tr>\n",
       "    <tr>\n",
       "      <th>3</th>\n",
       "      <td>895</td>\n",
       "      <td>3</td>\n",
       "      <td>1</td>\n",
       "      <td>2.0</td>\n",
       "      <td>0</td>\n",
       "      <td>0</td>\n",
       "      <td>1.0</td>\n",
       "      <td>2</td>\n",
       "    </tr>\n",
       "    <tr>\n",
       "      <th>4</th>\n",
       "      <td>896</td>\n",
       "      <td>3</td>\n",
       "      <td>2</td>\n",
       "      <td>1.0</td>\n",
       "      <td>1</td>\n",
       "      <td>1</td>\n",
       "      <td>1.0</td>\n",
       "      <td>2</td>\n",
       "    </tr>\n",
       "    <tr>\n",
       "      <th>...</th>\n",
       "      <td>...</td>\n",
       "      <td>...</td>\n",
       "      <td>...</td>\n",
       "      <td>...</td>\n",
       "      <td>...</td>\n",
       "      <td>...</td>\n",
       "      <td>...</td>\n",
       "      <td>...</td>\n",
       "    </tr>\n",
       "    <tr>\n",
       "      <th>413</th>\n",
       "      <td>1305</td>\n",
       "      <td>3</td>\n",
       "      <td>1</td>\n",
       "      <td>1.0</td>\n",
       "      <td>0</td>\n",
       "      <td>0</td>\n",
       "      <td>1.0</td>\n",
       "      <td>2</td>\n",
       "    </tr>\n",
       "    <tr>\n",
       "      <th>414</th>\n",
       "      <td>1306</td>\n",
       "      <td>1</td>\n",
       "      <td>2</td>\n",
       "      <td>3.0</td>\n",
       "      <td>0</td>\n",
       "      <td>0</td>\n",
       "      <td>4.0</td>\n",
       "      <td>3</td>\n",
       "    </tr>\n",
       "    <tr>\n",
       "      <th>415</th>\n",
       "      <td>1307</td>\n",
       "      <td>3</td>\n",
       "      <td>1</td>\n",
       "      <td>3.0</td>\n",
       "      <td>0</td>\n",
       "      <td>0</td>\n",
       "      <td>1.0</td>\n",
       "      <td>2</td>\n",
       "    </tr>\n",
       "    <tr>\n",
       "      <th>416</th>\n",
       "      <td>1308</td>\n",
       "      <td>3</td>\n",
       "      <td>1</td>\n",
       "      <td>1.0</td>\n",
       "      <td>0</td>\n",
       "      <td>0</td>\n",
       "      <td>1.0</td>\n",
       "      <td>2</td>\n",
       "    </tr>\n",
       "    <tr>\n",
       "      <th>417</th>\n",
       "      <td>1309</td>\n",
       "      <td>3</td>\n",
       "      <td>1</td>\n",
       "      <td>1.0</td>\n",
       "      <td>1</td>\n",
       "      <td>1</td>\n",
       "      <td>2.0</td>\n",
       "      <td>3</td>\n",
       "    </tr>\n",
       "  </tbody>\n",
       "</table>\n",
       "<p>418 rows × 8 columns</p>\n",
       "</div>"
      ],
      "text/plain": [
       "     PassengerId  Pclass  Sex  Age  SibSp  Parch  Fare  Embarked\n",
       "0            892       3    1  2.0      0      0   1.0         1\n",
       "1            893       3    2  3.0      1      0   1.0         2\n",
       "2            894       2    1  3.0      0      0   1.0         1\n",
       "3            895       3    1  2.0      0      0   1.0         2\n",
       "4            896       3    2  1.0      1      1   1.0         2\n",
       "..           ...     ...  ...  ...    ...    ...   ...       ...\n",
       "413         1305       3    1  1.0      0      0   1.0         2\n",
       "414         1306       1    2  3.0      0      0   4.0         3\n",
       "415         1307       3    1  3.0      0      0   1.0         2\n",
       "416         1308       3    1  1.0      0      0   1.0         2\n",
       "417         1309       3    1  1.0      1      1   2.0         3\n",
       "\n",
       "[418 rows x 8 columns]"
      ]
     },
     "execution_count": 33,
     "metadata": {},
     "output_type": "execute_result"
    }
   ],
   "source": [
    "df_Test"
   ]
  },
  {
   "cell_type": "code",
   "execution_count": 34,
   "id": "5eef09cc",
   "metadata": {
    "execution": {
     "iopub.execute_input": "2021-08-24T04:58:20.727642Z",
     "iopub.status.busy": "2021-08-24T04:58:20.726986Z",
     "iopub.status.idle": "2021-08-24T04:58:20.738389Z",
     "shell.execute_reply": "2021-08-24T04:58:20.738915Z",
     "shell.execute_reply.started": "2021-08-03T07:16:28.986665Z"
    },
    "papermill": {
     "duration": 0.061902,
     "end_time": "2021-08-24T04:58:20.739099",
     "exception": false,
     "start_time": "2021-08-24T04:58:20.677197",
     "status": "completed"
    },
    "tags": []
   },
   "outputs": [
    {
     "data": {
      "text/plain": [
       "array([[-1.72791209,  0.87348191, -0.75592895, ..., -0.4002477 ,\n",
       "        -0.77222889, -1.95594094],\n",
       "       [-1.71962474,  0.87348191,  1.32287566, ..., -0.4002477 ,\n",
       "        -0.77222889, -0.23108163],\n",
       "       [-1.71133739, -0.31581919, -0.75592895, ..., -0.4002477 ,\n",
       "        -0.77222889, -1.95594094],\n",
       "       ...,\n",
       "       [ 1.71133739,  0.87348191, -0.75592895, ..., -0.4002477 ,\n",
       "        -0.77222889, -0.23108163],\n",
       "       [ 1.71962474,  0.87348191, -0.75592895, ..., -0.4002477 ,\n",
       "        -0.77222889, -0.23108163],\n",
       "       [ 1.72791209,  0.87348191, -0.75592895, ...,  0.61989583,\n",
       "         0.23022973,  1.49377768]])"
      ]
     },
     "execution_count": 34,
     "metadata": {},
     "output_type": "execute_result"
    }
   ],
   "source": [
    "from sklearn.preprocessing import StandardScaler\n",
    "sc = StandardScaler()\n",
    "df_Test1 = sc.fit_transform(df_Test)\n",
    "df_Test1"
   ]
  },
  {
   "cell_type": "code",
   "execution_count": 35,
   "id": "37c5f220",
   "metadata": {
    "execution": {
     "iopub.execute_input": "2021-08-24T04:58:20.839291Z",
     "iopub.status.busy": "2021-08-24T04:58:20.838580Z",
     "iopub.status.idle": "2021-08-24T04:58:20.843718Z",
     "shell.execute_reply": "2021-08-24T04:58:20.844291Z",
     "shell.execute_reply.started": "2021-08-03T07:16:52.600778Z"
    },
    "papermill": {
     "duration": 0.057795,
     "end_time": "2021-08-24T04:58:20.844473",
     "exception": false,
     "start_time": "2021-08-24T04:58:20.786678",
     "status": "completed"
    },
    "tags": []
   },
   "outputs": [
    {
     "data": {
      "text/plain": [
       "(891, 8)"
      ]
     },
     "execution_count": 35,
     "metadata": {},
     "output_type": "execute_result"
    }
   ],
   "source": [
    "X.shape"
   ]
  },
  {
   "cell_type": "code",
   "execution_count": 36,
   "id": "5788598c",
   "metadata": {
    "execution": {
     "iopub.execute_input": "2021-08-24T04:58:20.945569Z",
     "iopub.status.busy": "2021-08-24T04:58:20.944829Z",
     "iopub.status.idle": "2021-08-24T04:58:20.957695Z",
     "shell.execute_reply": "2021-08-24T04:58:20.958226Z",
     "shell.execute_reply.started": "2021-08-03T07:17:08.299196Z"
    },
    "papermill": {
     "duration": 0.065493,
     "end_time": "2021-08-24T04:58:20.958456",
     "exception": false,
     "start_time": "2021-08-24T04:58:20.892963",
     "status": "completed"
    },
    "tags": []
   },
   "outputs": [],
   "source": [
    "# Feature Scaling\n",
    "from sklearn.preprocessing import StandardScaler\n",
    "sc = StandardScaler()\n",
    "X_train = sc.fit_transform(X_train)\n",
    "X_test = sc.transform(X_test)"
   ]
  },
  {
   "cell_type": "code",
   "execution_count": 37,
   "id": "3fc4e8f3",
   "metadata": {
    "execution": {
     "iopub.execute_input": "2021-08-24T04:58:21.059113Z",
     "iopub.status.busy": "2021-08-24T04:58:21.058453Z",
     "iopub.status.idle": "2021-08-24T04:58:27.553269Z",
     "shell.execute_reply": "2021-08-24T04:58:27.552633Z",
     "shell.execute_reply.started": "2021-08-03T07:17:25.284468Z"
    },
    "papermill": {
     "duration": 6.546742,
     "end_time": "2021-08-24T04:58:27.553432",
     "exception": false,
     "start_time": "2021-08-24T04:58:21.006690",
     "status": "completed"
    },
    "tags": []
   },
   "outputs": [],
   "source": [
    "import keras\n",
    "from keras.models import Sequential\n",
    "from keras.layers import Dense\n",
    "from keras.layers import LeakyReLU,PReLU,ELU\n",
    "from keras.layers import Dropout"
   ]
  },
  {
   "cell_type": "code",
   "execution_count": 38,
   "id": "6c934075",
   "metadata": {
    "execution": {
     "iopub.execute_input": "2021-08-24T04:58:27.655916Z",
     "iopub.status.busy": "2021-08-24T04:58:27.655143Z",
     "iopub.status.idle": "2021-08-24T04:58:27.791779Z",
     "shell.execute_reply": "2021-08-24T04:58:27.791094Z",
     "shell.execute_reply.started": "2021-08-03T07:17:47.29533Z"
    },
    "papermill": {
     "duration": 0.188632,
     "end_time": "2021-08-24T04:58:27.791948",
     "exception": false,
     "start_time": "2021-08-24T04:58:27.603316",
     "status": "completed"
    },
    "tags": []
   },
   "outputs": [],
   "source": [
    "classifier = Sequential()\n",
    "classifier.add(Dense(units = 20, kernel_initializer = 'he_uniform',activation='relu',input_dim = 8))\n",
    "classifier.add(Dense(units = 10, kernel_initializer = 'he_uniform',activation='relu'))\n",
    "classifier.add(Dense(units = 15, kernel_initializer = 'he_uniform',activation='relu'))\n",
    "classifier.add(Dense(units = 1, kernel_initializer = 'glorot_uniform', activation = 'sigmoid'))\n",
    "\n",
    "classifier.compile(optimizer = 'Adamax', loss = 'binary_crossentropy', metrics = ['accuracy'])"
   ]
  },
  {
   "cell_type": "code",
   "execution_count": 39,
   "id": "e485a20b",
   "metadata": {
    "execution": {
     "iopub.execute_input": "2021-08-24T04:58:27.897441Z",
     "iopub.status.busy": "2021-08-24T04:58:27.896703Z",
     "iopub.status.idle": "2021-08-24T04:58:51.739972Z",
     "shell.execute_reply": "2021-08-24T04:58:51.738949Z",
     "shell.execute_reply.started": "2021-08-03T07:18:04.193426Z"
    },
    "papermill": {
     "duration": 23.897999,
     "end_time": "2021-08-24T04:58:51.740136",
     "exception": false,
     "start_time": "2021-08-24T04:58:27.842137",
     "status": "completed"
    },
    "tags": []
   },
   "outputs": [
    {
     "name": "stdout",
     "output_type": "stream",
     "text": [
      "Epoch 1/100\n",
      "93/93 [==============================] - 1s 9ms/step - loss: 0.7574 - accuracy: 0.5218 - val_loss: 0.6641 - val_accuracy: 0.5440\n",
      "Epoch 2/100\n",
      "93/93 [==============================] - 0s 3ms/step - loss: 0.6591 - accuracy: 0.5971 - val_loss: 0.6182 - val_accuracy: 0.6320\n",
      "Epoch 3/100\n",
      "93/93 [==============================] - 0s 2ms/step - loss: 0.5831 - accuracy: 0.7149 - val_loss: 0.5942 - val_accuracy: 0.6920\n",
      "Epoch 4/100\n",
      "93/93 [==============================] - 0s 2ms/step - loss: 0.5671 - accuracy: 0.7145 - val_loss: 0.5740 - val_accuracy: 0.7360\n",
      "Epoch 5/100\n",
      "93/93 [==============================] - 0s 2ms/step - loss: 0.5101 - accuracy: 0.7554 - val_loss: 0.5595 - val_accuracy: 0.7560\n",
      "Epoch 6/100\n",
      "93/93 [==============================] - 0s 2ms/step - loss: 0.5491 - accuracy: 0.7417 - val_loss: 0.5476 - val_accuracy: 0.7600\n",
      "Epoch 7/100\n",
      "93/93 [==============================] - 0s 2ms/step - loss: 0.5181 - accuracy: 0.7516 - val_loss: 0.5362 - val_accuracy: 0.7680\n",
      "Epoch 8/100\n",
      "93/93 [==============================] - 0s 2ms/step - loss: 0.5126 - accuracy: 0.7487 - val_loss: 0.5282 - val_accuracy: 0.7680\n",
      "Epoch 9/100\n",
      "93/93 [==============================] - 0s 2ms/step - loss: 0.4962 - accuracy: 0.7676 - val_loss: 0.5209 - val_accuracy: 0.7800\n",
      "Epoch 10/100\n",
      "93/93 [==============================] - 0s 2ms/step - loss: 0.5179 - accuracy: 0.7503 - val_loss: 0.5152 - val_accuracy: 0.7800\n",
      "Epoch 11/100\n",
      "93/93 [==============================] - 0s 2ms/step - loss: 0.4729 - accuracy: 0.7839 - val_loss: 0.5125 - val_accuracy: 0.7760\n",
      "Epoch 12/100\n",
      "93/93 [==============================] - 0s 2ms/step - loss: 0.4423 - accuracy: 0.8063 - val_loss: 0.5095 - val_accuracy: 0.7760\n",
      "Epoch 13/100\n",
      "93/93 [==============================] - 0s 3ms/step - loss: 0.4598 - accuracy: 0.8042 - val_loss: 0.5060 - val_accuracy: 0.7800\n",
      "Epoch 14/100\n",
      "93/93 [==============================] - 0s 2ms/step - loss: 0.4915 - accuracy: 0.7630 - val_loss: 0.5036 - val_accuracy: 0.7800\n",
      "Epoch 15/100\n",
      "93/93 [==============================] - 0s 2ms/step - loss: 0.4267 - accuracy: 0.8179 - val_loss: 0.5003 - val_accuracy: 0.7880\n",
      "Epoch 16/100\n",
      "93/93 [==============================] - 0s 3ms/step - loss: 0.4474 - accuracy: 0.7769 - val_loss: 0.4983 - val_accuracy: 0.7880\n",
      "Epoch 17/100\n",
      "93/93 [==============================] - 0s 3ms/step - loss: 0.4376 - accuracy: 0.7993 - val_loss: 0.4966 - val_accuracy: 0.7880\n",
      "Epoch 18/100\n",
      "93/93 [==============================] - 0s 3ms/step - loss: 0.4513 - accuracy: 0.7935 - val_loss: 0.4958 - val_accuracy: 0.7840\n",
      "Epoch 19/100\n",
      "93/93 [==============================] - 0s 3ms/step - loss: 0.4325 - accuracy: 0.8085 - val_loss: 0.4932 - val_accuracy: 0.7880\n",
      "Epoch 20/100\n",
      "93/93 [==============================] - 0s 3ms/step - loss: 0.4179 - accuracy: 0.8203 - val_loss: 0.4916 - val_accuracy: 0.7880\n",
      "Epoch 21/100\n",
      "93/93 [==============================] - 0s 2ms/step - loss: 0.4700 - accuracy: 0.7760 - val_loss: 0.4915 - val_accuracy: 0.7960\n",
      "Epoch 22/100\n",
      "93/93 [==============================] - 0s 2ms/step - loss: 0.4402 - accuracy: 0.7914 - val_loss: 0.4905 - val_accuracy: 0.8000\n",
      "Epoch 23/100\n",
      "93/93 [==============================] - 0s 2ms/step - loss: 0.4262 - accuracy: 0.8168 - val_loss: 0.4897 - val_accuracy: 0.8000\n",
      "Epoch 24/100\n",
      "93/93 [==============================] - 0s 2ms/step - loss: 0.3610 - accuracy: 0.8479 - val_loss: 0.4882 - val_accuracy: 0.8000\n",
      "Epoch 25/100\n",
      "93/93 [==============================] - 0s 2ms/step - loss: 0.4155 - accuracy: 0.8159 - val_loss: 0.4874 - val_accuracy: 0.8000\n",
      "Epoch 26/100\n",
      "93/93 [==============================] - 0s 2ms/step - loss: 0.4301 - accuracy: 0.8049 - val_loss: 0.4874 - val_accuracy: 0.8000\n",
      "Epoch 27/100\n",
      "93/93 [==============================] - 0s 2ms/step - loss: 0.3994 - accuracy: 0.8319 - val_loss: 0.4872 - val_accuracy: 0.7960\n",
      "Epoch 28/100\n",
      "93/93 [==============================] - 0s 2ms/step - loss: 0.3926 - accuracy: 0.8288 - val_loss: 0.4859 - val_accuracy: 0.7960\n",
      "Epoch 29/100\n",
      "93/93 [==============================] - 0s 2ms/step - loss: 0.3660 - accuracy: 0.8653 - val_loss: 0.4870 - val_accuracy: 0.7960\n",
      "Epoch 30/100\n",
      "93/93 [==============================] - 0s 2ms/step - loss: 0.4173 - accuracy: 0.8142 - val_loss: 0.4864 - val_accuracy: 0.7960\n",
      "Epoch 31/100\n",
      "93/93 [==============================] - 0s 2ms/step - loss: 0.4046 - accuracy: 0.8343 - val_loss: 0.4858 - val_accuracy: 0.8000\n",
      "Epoch 32/100\n",
      "93/93 [==============================] - 0s 2ms/step - loss: 0.3989 - accuracy: 0.8312 - val_loss: 0.4869 - val_accuracy: 0.8000\n",
      "Epoch 33/100\n",
      "93/93 [==============================] - 0s 2ms/step - loss: 0.4217 - accuracy: 0.8244 - val_loss: 0.4855 - val_accuracy: 0.7960\n",
      "Epoch 34/100\n",
      "93/93 [==============================] - 0s 2ms/step - loss: 0.3896 - accuracy: 0.8390 - val_loss: 0.4853 - val_accuracy: 0.7880\n",
      "Epoch 35/100\n",
      "93/93 [==============================] - 0s 3ms/step - loss: 0.3959 - accuracy: 0.8343 - val_loss: 0.4857 - val_accuracy: 0.7880\n",
      "Epoch 36/100\n",
      "93/93 [==============================] - 0s 3ms/step - loss: 0.4124 - accuracy: 0.8305 - val_loss: 0.4855 - val_accuracy: 0.7840\n",
      "Epoch 37/100\n",
      "93/93 [==============================] - 0s 2ms/step - loss: 0.3751 - accuracy: 0.8455 - val_loss: 0.4859 - val_accuracy: 0.7840\n",
      "Epoch 38/100\n",
      "93/93 [==============================] - 0s 3ms/step - loss: 0.4027 - accuracy: 0.8310 - val_loss: 0.4858 - val_accuracy: 0.7840\n",
      "Epoch 39/100\n",
      "93/93 [==============================] - 0s 2ms/step - loss: 0.4185 - accuracy: 0.8139 - val_loss: 0.4857 - val_accuracy: 0.7840\n",
      "Epoch 40/100\n",
      "93/93 [==============================] - 0s 2ms/step - loss: 0.4101 - accuracy: 0.8225 - val_loss: 0.4857 - val_accuracy: 0.7880\n",
      "Epoch 41/100\n",
      "93/93 [==============================] - 0s 2ms/step - loss: 0.3975 - accuracy: 0.8242 - val_loss: 0.4857 - val_accuracy: 0.7880\n",
      "Epoch 42/100\n",
      "93/93 [==============================] - 0s 2ms/step - loss: 0.4131 - accuracy: 0.8175 - val_loss: 0.4861 - val_accuracy: 0.7840\n",
      "Epoch 43/100\n",
      "93/93 [==============================] - 0s 2ms/step - loss: 0.4100 - accuracy: 0.8260 - val_loss: 0.4854 - val_accuracy: 0.7800\n",
      "Epoch 44/100\n",
      "93/93 [==============================] - 0s 2ms/step - loss: 0.4000 - accuracy: 0.8165 - val_loss: 0.4851 - val_accuracy: 0.7840\n",
      "Epoch 45/100\n",
      "93/93 [==============================] - 0s 3ms/step - loss: 0.3876 - accuracy: 0.8361 - val_loss: 0.4863 - val_accuracy: 0.7880\n",
      "Epoch 46/100\n",
      "93/93 [==============================] - 0s 2ms/step - loss: 0.4271 - accuracy: 0.8105 - val_loss: 0.4856 - val_accuracy: 0.7880\n",
      "Epoch 47/100\n",
      "93/93 [==============================] - 0s 2ms/step - loss: 0.4038 - accuracy: 0.8093 - val_loss: 0.4862 - val_accuracy: 0.7880\n",
      "Epoch 48/100\n",
      "93/93 [==============================] - 0s 3ms/step - loss: 0.4155 - accuracy: 0.8100 - val_loss: 0.4857 - val_accuracy: 0.7840\n",
      "Epoch 49/100\n",
      "93/93 [==============================] - 0s 2ms/step - loss: 0.3824 - accuracy: 0.8309 - val_loss: 0.4859 - val_accuracy: 0.7880\n",
      "Epoch 50/100\n",
      "93/93 [==============================] - 0s 2ms/step - loss: 0.3559 - accuracy: 0.8498 - val_loss: 0.4861 - val_accuracy: 0.7840\n",
      "Epoch 51/100\n",
      "93/93 [==============================] - 0s 2ms/step - loss: 0.3890 - accuracy: 0.8378 - val_loss: 0.4863 - val_accuracy: 0.7880\n",
      "Epoch 52/100\n",
      "93/93 [==============================] - 0s 2ms/step - loss: 0.3800 - accuracy: 0.8308 - val_loss: 0.4869 - val_accuracy: 0.7840\n",
      "Epoch 53/100\n",
      "93/93 [==============================] - 0s 2ms/step - loss: 0.3688 - accuracy: 0.8312 - val_loss: 0.4866 - val_accuracy: 0.7840\n",
      "Epoch 54/100\n",
      "93/93 [==============================] - 0s 2ms/step - loss: 0.3552 - accuracy: 0.8565 - val_loss: 0.4859 - val_accuracy: 0.7840\n",
      "Epoch 55/100\n",
      "93/93 [==============================] - 0s 2ms/step - loss: 0.3570 - accuracy: 0.8472 - val_loss: 0.4859 - val_accuracy: 0.7840\n",
      "Epoch 56/100\n",
      "93/93 [==============================] - 0s 2ms/step - loss: 0.3598 - accuracy: 0.8351 - val_loss: 0.4857 - val_accuracy: 0.7840\n",
      "Epoch 57/100\n",
      "93/93 [==============================] - 0s 2ms/step - loss: 0.3691 - accuracy: 0.8407 - val_loss: 0.4860 - val_accuracy: 0.7840\n",
      "Epoch 58/100\n",
      "93/93 [==============================] - 0s 2ms/step - loss: 0.4354 - accuracy: 0.8120 - val_loss: 0.4854 - val_accuracy: 0.7840\n",
      "Epoch 59/100\n",
      "93/93 [==============================] - 0s 2ms/step - loss: 0.4095 - accuracy: 0.8230 - val_loss: 0.4859 - val_accuracy: 0.7840\n",
      "Epoch 60/100\n",
      "93/93 [==============================] - 0s 2ms/step - loss: 0.4141 - accuracy: 0.8017 - val_loss: 0.4859 - val_accuracy: 0.7800\n",
      "Epoch 61/100\n",
      "93/93 [==============================] - 0s 2ms/step - loss: 0.3523 - accuracy: 0.8505 - val_loss: 0.4863 - val_accuracy: 0.7800\n",
      "Epoch 62/100\n",
      "93/93 [==============================] - 0s 2ms/step - loss: 0.3531 - accuracy: 0.8501 - val_loss: 0.4883 - val_accuracy: 0.7800\n",
      "Epoch 63/100\n",
      "93/93 [==============================] - 0s 2ms/step - loss: 0.3693 - accuracy: 0.8513 - val_loss: 0.4880 - val_accuracy: 0.7800\n",
      "Epoch 64/100\n",
      "93/93 [==============================] - 0s 2ms/step - loss: 0.3672 - accuracy: 0.8315 - val_loss: 0.4875 - val_accuracy: 0.7800\n",
      "Epoch 65/100\n",
      "93/93 [==============================] - 0s 2ms/step - loss: 0.3394 - accuracy: 0.8688 - val_loss: 0.4882 - val_accuracy: 0.7800\n",
      "Epoch 66/100\n",
      "93/93 [==============================] - 0s 2ms/step - loss: 0.3753 - accuracy: 0.8314 - val_loss: 0.4875 - val_accuracy: 0.7800\n",
      "Epoch 67/100\n",
      "93/93 [==============================] - 0s 2ms/step - loss: 0.4041 - accuracy: 0.8180 - val_loss: 0.4868 - val_accuracy: 0.7800\n",
      "Epoch 68/100\n",
      "93/93 [==============================] - 0s 2ms/step - loss: 0.3154 - accuracy: 0.8723 - val_loss: 0.4886 - val_accuracy: 0.7800\n",
      "Epoch 69/100\n",
      "93/93 [==============================] - 0s 2ms/step - loss: 0.3515 - accuracy: 0.8582 - val_loss: 0.4884 - val_accuracy: 0.7760\n",
      "Epoch 70/100\n",
      "93/93 [==============================] - 0s 2ms/step - loss: 0.3553 - accuracy: 0.8254 - val_loss: 0.4883 - val_accuracy: 0.7760\n",
      "Epoch 71/100\n",
      "93/93 [==============================] - 0s 2ms/step - loss: 0.3712 - accuracy: 0.8341 - val_loss: 0.4888 - val_accuracy: 0.7760\n",
      "Epoch 72/100\n",
      "93/93 [==============================] - 0s 2ms/step - loss: 0.3617 - accuracy: 0.8414 - val_loss: 0.4888 - val_accuracy: 0.7760\n",
      "Epoch 73/100\n",
      "93/93 [==============================] - 0s 2ms/step - loss: 0.3358 - accuracy: 0.8394 - val_loss: 0.4914 - val_accuracy: 0.7720\n",
      "Epoch 74/100\n",
      "93/93 [==============================] - 0s 2ms/step - loss: 0.3561 - accuracy: 0.8577 - val_loss: 0.4901 - val_accuracy: 0.7720\n",
      "Epoch 75/100\n",
      "93/93 [==============================] - 0s 2ms/step - loss: 0.3682 - accuracy: 0.8272 - val_loss: 0.4899 - val_accuracy: 0.7720\n",
      "Epoch 76/100\n",
      "93/93 [==============================] - 0s 2ms/step - loss: 0.3387 - accuracy: 0.8406 - val_loss: 0.4906 - val_accuracy: 0.7720\n",
      "Epoch 77/100\n",
      "93/93 [==============================] - 0s 2ms/step - loss: 0.3597 - accuracy: 0.8552 - val_loss: 0.4915 - val_accuracy: 0.7720\n",
      "Epoch 78/100\n",
      "93/93 [==============================] - 0s 2ms/step - loss: 0.3342 - accuracy: 0.8439 - val_loss: 0.4901 - val_accuracy: 0.7760\n",
      "Epoch 79/100\n",
      "93/93 [==============================] - 0s 2ms/step - loss: 0.3354 - accuracy: 0.8549 - val_loss: 0.4912 - val_accuracy: 0.7760\n",
      "Epoch 80/100\n",
      "93/93 [==============================] - 0s 2ms/step - loss: 0.3535 - accuracy: 0.8327 - val_loss: 0.4921 - val_accuracy: 0.7760\n",
      "Epoch 81/100\n",
      "93/93 [==============================] - 0s 3ms/step - loss: 0.3525 - accuracy: 0.8437 - val_loss: 0.4915 - val_accuracy: 0.7760\n",
      "Epoch 82/100\n",
      "93/93 [==============================] - 0s 3ms/step - loss: 0.3207 - accuracy: 0.8575 - val_loss: 0.4930 - val_accuracy: 0.7720\n",
      "Epoch 83/100\n",
      "93/93 [==============================] - 0s 3ms/step - loss: 0.3231 - accuracy: 0.8547 - val_loss: 0.4923 - val_accuracy: 0.7760\n",
      "Epoch 84/100\n",
      "93/93 [==============================] - 0s 3ms/step - loss: 0.3670 - accuracy: 0.8274 - val_loss: 0.4914 - val_accuracy: 0.7760\n",
      "Epoch 85/100\n",
      "93/93 [==============================] - 0s 3ms/step - loss: 0.3054 - accuracy: 0.8574 - val_loss: 0.4927 - val_accuracy: 0.7760\n",
      "Epoch 86/100\n",
      "93/93 [==============================] - 0s 3ms/step - loss: 0.2981 - accuracy: 0.8831 - val_loss: 0.4913 - val_accuracy: 0.7800\n",
      "Epoch 87/100\n",
      "93/93 [==============================] - 0s 3ms/step - loss: 0.3528 - accuracy: 0.8420 - val_loss: 0.4913 - val_accuracy: 0.7760\n",
      "Epoch 88/100\n",
      "93/93 [==============================] - 0s 2ms/step - loss: 0.3363 - accuracy: 0.8458 - val_loss: 0.4936 - val_accuracy: 0.7760\n",
      "Epoch 89/100\n",
      "93/93 [==============================] - 0s 3ms/step - loss: 0.3394 - accuracy: 0.8609 - val_loss: 0.4937 - val_accuracy: 0.7760\n",
      "Epoch 90/100\n",
      "93/93 [==============================] - 0s 3ms/step - loss: 0.3364 - accuracy: 0.8526 - val_loss: 0.4948 - val_accuracy: 0.7760\n",
      "Epoch 91/100\n",
      "93/93 [==============================] - 0s 2ms/step - loss: 0.3417 - accuracy: 0.8487 - val_loss: 0.4935 - val_accuracy: 0.7800\n",
      "Epoch 92/100\n",
      "93/93 [==============================] - 0s 2ms/step - loss: 0.3438 - accuracy: 0.8581 - val_loss: 0.4934 - val_accuracy: 0.7800\n",
      "Epoch 93/100\n",
      "93/93 [==============================] - 0s 2ms/step - loss: 0.3488 - accuracy: 0.8556 - val_loss: 0.4950 - val_accuracy: 0.7760\n",
      "Epoch 94/100\n",
      "93/93 [==============================] - 0s 2ms/step - loss: 0.4117 - accuracy: 0.8088 - val_loss: 0.4935 - val_accuracy: 0.7800\n",
      "Epoch 95/100\n",
      "93/93 [==============================] - 0s 3ms/step - loss: 0.3539 - accuracy: 0.8424 - val_loss: 0.4937 - val_accuracy: 0.7800\n",
      "Epoch 96/100\n",
      "93/93 [==============================] - 0s 2ms/step - loss: 0.3257 - accuracy: 0.8522 - val_loss: 0.4939 - val_accuracy: 0.7800\n",
      "Epoch 97/100\n",
      "93/93 [==============================] - 0s 2ms/step - loss: 0.3313 - accuracy: 0.8609 - val_loss: 0.4948 - val_accuracy: 0.7760\n",
      "Epoch 98/100\n",
      "93/93 [==============================] - 0s 3ms/step - loss: 0.3551 - accuracy: 0.8364 - val_loss: 0.4937 - val_accuracy: 0.7760\n",
      "Epoch 99/100\n",
      "93/93 [==============================] - 0s 2ms/step - loss: 0.3593 - accuracy: 0.8259 - val_loss: 0.4950 - val_accuracy: 0.7760\n",
      "Epoch 100/100\n",
      "93/93 [==============================] - 0s 2ms/step - loss: 0.3277 - accuracy: 0.8696 - val_loss: 0.4948 - val_accuracy: 0.7760\n"
     ]
    }
   ],
   "source": [
    "model=classifier.fit(X_train, y_train, validation_split=0.350, batch_size = 5, epochs = 100)"
   ]
  },
  {
   "cell_type": "code",
   "execution_count": 40,
   "id": "8f6a38c4",
   "metadata": {
    "execution": {
     "iopub.execute_input": "2021-08-24T04:58:52.094072Z",
     "iopub.status.busy": "2021-08-24T04:58:52.093330Z",
     "iopub.status.idle": "2021-08-24T04:58:52.237224Z",
     "shell.execute_reply": "2021-08-24T04:58:52.237771Z",
     "shell.execute_reply.started": "2021-08-03T07:18:41.634808Z"
    },
    "papermill": {
     "duration": 0.324544,
     "end_time": "2021-08-24T04:58:52.237964",
     "exception": false,
     "start_time": "2021-08-24T04:58:51.913420",
     "status": "completed"
    },
    "tags": []
   },
   "outputs": [],
   "source": [
    "y_pred = classifier.predict(df_Test1)\n",
    "y_pred = (y_pred > 0.5) #returns values in True / False in a list of lists format\n",
    "\n",
    "# Converting True and False values to int\n",
    "y_pred_int = y_pred.astype(int)\n",
    "\n",
    "# Coverting list of list to 1 flat list\n",
    "y_pred_list = [item for sublist in y_pred_int for item in sublist]\n",
    "\n",
    "# Converting the flat list to np array\n",
    "y_pred1 = np.asarray(y_pred_list , dtype = int)"
   ]
  },
  {
   "cell_type": "code",
   "execution_count": 41,
   "id": "1a4aa61d",
   "metadata": {
    "execution": {
     "iopub.execute_input": "2021-08-24T04:58:52.592396Z",
     "iopub.status.busy": "2021-08-24T04:58:52.591337Z",
     "iopub.status.idle": "2021-08-24T04:58:52.600394Z",
     "shell.execute_reply": "2021-08-24T04:58:52.599676Z",
     "shell.execute_reply.started": "2021-08-03T07:18:59.113086Z"
    },
    "papermill": {
     "duration": 0.189557,
     "end_time": "2021-08-24T04:58:52.600567",
     "exception": false,
     "start_time": "2021-08-24T04:58:52.411010",
     "status": "completed"
    },
    "tags": []
   },
   "outputs": [
    {
     "data": {
      "text/plain": [
       "array([0, 0, 0, 0, 1, 1, 1, 0, 0, 0, 0, 0, 1, 0, 1, 1, 0, 1, 1, 0, 0, 1,\n",
       "       1, 0, 1, 0, 1, 1, 0, 0, 0, 0, 0, 1, 0, 1, 1, 1, 0, 1, 0, 0, 0, 1,\n",
       "       1, 0, 0, 0, 1, 0, 0, 0, 1, 1, 0, 0, 0, 0, 0, 1, 0, 0, 0, 1, 0, 1,\n",
       "       1, 0, 0, 1, 1, 0, 0, 0, 1, 0, 0, 1, 0, 1, 1, 0, 0, 0, 0, 0, 1, 1,\n",
       "       1, 0, 1, 0, 1, 0, 0, 0, 1, 0, 1, 0, 1, 0, 0, 0, 1, 0, 0, 0, 0, 0,\n",
       "       0, 1, 1, 1, 1, 0, 0, 1, 0, 1, 1, 0, 1, 0, 0, 0, 0, 0, 0, 0, 0, 0,\n",
       "       0, 0, 0, 0, 0, 0, 0, 0, 0, 1, 0, 0, 0, 0, 0, 0, 0, 0, 1, 0, 0, 0,\n",
       "       0, 0, 1, 0, 0, 0, 1, 0, 1, 0, 0, 1, 0, 0, 1, 0, 0, 0, 0, 0, 0, 1,\n",
       "       1, 0, 1, 1, 0, 0, 1, 0, 1, 0, 1, 0, 0, 0, 0, 0, 0, 0, 1, 0, 0, 0,\n",
       "       0, 0, 1, 0, 0, 1, 0, 0, 0, 0, 1, 0, 0, 0, 0, 1, 0, 0, 1, 0, 1, 0,\n",
       "       1, 0, 1, 0, 1, 0, 0, 1, 0, 0, 1, 1, 0, 0, 0, 0, 0, 0, 1, 1, 1, 0,\n",
       "       0, 0, 0, 0, 1, 0, 1, 0, 1, 0, 0, 0, 0, 0, 0, 0, 1, 0, 0, 0, 1, 0,\n",
       "       0, 0, 0, 0, 0, 0, 0, 0, 1, 0, 0, 1, 0, 0, 0, 0, 0, 0, 1, 0, 0, 0,\n",
       "       0, 0, 0, 0, 0, 0, 0, 0, 0, 0, 1, 0, 0, 0, 0, 0, 0, 0, 1, 1, 0, 0,\n",
       "       0, 0, 0, 0, 0, 0, 1, 1, 0, 0, 0, 0, 0, 0, 0, 0, 1, 0, 1, 0, 0, 0,\n",
       "       1, 0, 0, 0, 0, 0, 0, 0, 0, 0, 0, 0, 0, 1, 0, 1, 0, 0, 0, 1, 1, 0,\n",
       "       0, 0, 0, 0, 1, 0, 0, 0, 0, 1, 1, 0, 1, 0, 0, 1, 1, 0, 0, 1, 0, 0,\n",
       "       1, 1, 0, 0, 0, 0, 0, 0, 0, 0, 0, 1, 0, 0, 0, 0, 0, 1, 0, 0, 0, 1,\n",
       "       0, 1, 0, 0, 1, 0, 1, 0, 0, 0, 0, 0, 0, 0, 0, 1, 0, 0, 1, 0, 0, 0])"
      ]
     },
     "execution_count": 41,
     "metadata": {},
     "output_type": "execute_result"
    }
   ],
   "source": [
    "y_pred1"
   ]
  },
  {
   "cell_type": "code",
   "execution_count": 42,
   "id": "920c4ca2",
   "metadata": {
    "execution": {
     "iopub.execute_input": "2021-08-24T04:58:52.955903Z",
     "iopub.status.busy": "2021-08-24T04:58:52.955107Z",
     "iopub.status.idle": "2021-08-24T04:58:52.965657Z",
     "shell.execute_reply": "2021-08-24T04:58:52.966327Z",
     "shell.execute_reply.started": "2021-08-03T07:19:20.732182Z"
    },
    "papermill": {
     "duration": 0.193478,
     "end_time": "2021-08-24T04:58:52.966557",
     "exception": false,
     "start_time": "2021-08-24T04:58:52.773079",
     "status": "completed"
    },
    "tags": []
   },
   "outputs": [],
   "source": [
    "output = pd.DataFrame({'PassengerId': df_Test.PassengerId, 'Survived': y_pred1})\n",
    "output.to_csv('my_submission15.csv', index=False)"
   ]
  },
  {
   "cell_type": "code",
   "execution_count": null,
   "id": "4c2bff16",
   "metadata": {
    "papermill": {
     "duration": 0.171486,
     "end_time": "2021-08-24T04:58:53.313916",
     "exception": false,
     "start_time": "2021-08-24T04:58:53.142430",
     "status": "completed"
    },
    "tags": []
   },
   "outputs": [],
   "source": []
  }
 ],
 "metadata": {
  "kernelspec": {
   "display_name": "Python 3",
   "language": "python",
   "name": "python3"
  },
  "language_info": {
   "codemirror_mode": {
    "name": "ipython",
    "version": 3
   },
   "file_extension": ".py",
   "mimetype": "text/x-python",
   "name": "python",
   "nbconvert_exporter": "python",
   "pygments_lexer": "ipython3",
   "version": "3.7.10"
  },
  "papermill": {
   "default_parameters": {},
   "duration": 48.964912,
   "end_time": "2021-08-24T04:58:55.353664",
   "environment_variables": {},
   "exception": null,
   "input_path": "__notebook__.ipynb",
   "output_path": "__notebook__.ipynb",
   "parameters": {},
   "start_time": "2021-08-24T04:58:06.388752",
   "version": "2.3.3"
  }
 },
 "nbformat": 4,
 "nbformat_minor": 5
}
